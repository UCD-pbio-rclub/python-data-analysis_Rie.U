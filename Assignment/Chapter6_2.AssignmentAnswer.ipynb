{
 "cells": [
  {
   "cell_type": "code",
   "execution_count": 28,
   "metadata": {},
   "outputs": [],
   "source": [
    "import pandas as pd\n",
    "import numpy as np\n",
    "import json\n",
    "import csv\n",
    "import requests\n",
    "from lxml import objectify"
   ]
  },
  {
   "cell_type": "code",
   "execution_count": null,
   "metadata": {},
   "outputs": [],
   "source": [
    "#####Junqi's question"
   ]
  },
  {
   "cell_type": "code",
   "execution_count": 2,
   "metadata": {},
   "outputs": [],
   "source": [
    "url = 'https://www.thegradcafe.com/survey/index.php?q=uc+davis&t=a&o=&pp=250'"
   ]
  },
  {
   "cell_type": "code",
   "execution_count": 3,
   "metadata": {},
   "outputs": [],
   "source": [
    "resp =  requests.get(url)"
   ]
  },
  {
   "cell_type": "code",
   "execution_count": 4,
   "metadata": {},
   "outputs": [
    {
     "data": {
      "text/plain": [
       "<Response [200]>"
      ]
     },
     "execution_count": 4,
     "metadata": {},
     "output_type": "execute_result"
    }
   ],
   "source": [
    "resp"
   ]
  },
  {
   "cell_type": "code",
   "execution_count": 20,
   "metadata": {},
   "outputs": [],
   "source": [
    "data = pd.read_html('https://www.thegradcafe.com/survey/index.php?q=uc+davis&t=a&o=&pp=250', header= 1) ###I need to put1 as header b/c there are anotehr header in the dataframe"
   ]
  },
  {
   "cell_type": "code",
   "execution_count": 21,
   "metadata": {},
   "outputs": [
    {
     "data": {
      "text/plain": [
       "[                                    Institution  \\\n",
       " 0                                      UC Davis   \n",
       " 1                                      UC Davis   \n",
       " 2    University Of California, Davis (UC Davis)   \n",
       " 3                                      UC Davis   \n",
       " 4                                      Uc Davis   \n",
       " 5                                      UC Davis   \n",
       " 6                                      UC Davis   \n",
       " 7                                      UC Davis   \n",
       " 8                                      UC Davis   \n",
       " 9                                      UC Davis   \n",
       " 10                                     UC Davis   \n",
       " 11                                     UC Davis   \n",
       " 12                                     UC Davis   \n",
       " 13                                     UC Davis   \n",
       " 14                                     UC Davis   \n",
       " 15                                     UC Davis   \n",
       " 16                                     UC Davis   \n",
       " 17                                     UC Davis   \n",
       " 18                                     UC Davis   \n",
       " 19                                     UC Davis   \n",
       " 20                                     UC Davis   \n",
       " 21                                     UC Davis   \n",
       " 22                                     UC Davis   \n",
       " 23                                     UC Davis   \n",
       " 24                                     UC Davis   \n",
       " 25                                     UC Davis   \n",
       " 26                                     UC Davis   \n",
       " 27                                     UC Davis   \n",
       " 28                                     UC Davis   \n",
       " 29                                     UC Davis   \n",
       " ..                                          ...   \n",
       " 220   University Of California Davis (UC Davis)   \n",
       " 221                                    UC Davis   \n",
       " 222                                    UC Davis   \n",
       " 223                       UC Davis (California)   \n",
       " 224                                    UC Davis   \n",
       " 225                                    UC Davis   \n",
       " 226                                    UC Davis   \n",
       " 227                                    UC Davis   \n",
       " 228                                    UC Davis   \n",
       " 229   UC Davis (University Of California Davis)   \n",
       " 230                                    UC Davis   \n",
       " 231   UC Davis (University Of California Davis)   \n",
       " 232                                    UC Davis   \n",
       " 233                                    UC Davis   \n",
       " 234                              UC Davis (UCD)   \n",
       " 235                                    UC Davis   \n",
       " 236                                    UC Davis   \n",
       " 237  University Of California, Davis (UC Davis)   \n",
       " 238                                    UC Davis   \n",
       " 239   UC Davis (University Of California Davis)   \n",
       " 240                                    UC Davis   \n",
       " 241                       UC Davis (California)   \n",
       " 242   UC Davis (University Of California Davis)   \n",
       " 243                                  , UC Davis   \n",
       " 244                                    UC Davis   \n",
       " 245                                    UC Davis   \n",
       " 246                                    UC Davis   \n",
       " 247   University Of California Davis (UC Davis)   \n",
       " 248                                    UC Davis   \n",
       " 249                                    UC Davis   \n",
       " \n",
       "                                       Program (Season)  \\\n",
       " 0    Biochemistry, Molecular, Cell And Developmenta...   \n",
       " 1                                 Education, PhD (F19)   \n",
       " 2         Microbiology Graduate Group (MGG), PhD (F19)   \n",
       " 3    Integrative Genetics And Genomics (IGG), PhD (...   \n",
       " 4                                     BMCDB, PhD (F19)   \n",
       " 5    ( ECE ) Electrical And Computer Engineering, P...   \n",
       " 6                   (Computer Science ), Masters (F18)   \n",
       " 7                   (Computer Science ), Masters (F18)   \n",
       " 8                     (Computer Science, Masters (F18)   \n",
       " 9    ( ECE ) Electrical And Computer Engineering, P...   \n",
       " 10                         Computer Science, PhD (F18)   \n",
       " 11                  (Computer Science ), Masters (F18)   \n",
       " 12                  (Computer Science ), Masters (F18)   \n",
       " 13               (Computer Science ) MS, Masters (F18)   \n",
       " 14               (Computer Science ) MS, Masters (F18)   \n",
       " 15   ( ECE ) Electrical And Computer Engineering, M...   \n",
       " 16                      Nutritional Biology, PhD (F18)   \n",
       " 17                    (Computer Science, Masters (F18)   \n",
       " 18           (Civil) Structural Engineering, PhD (F18)   \n",
       " 19               (Computer Science ) MS, Masters (F18)   \n",
       " 20                    Computer Scicence, Masters (F18)   \n",
       " 21                  (Computer Science ), Masters (F18)   \n",
       " 22               (Computer Science ) MS, Masters (F18)   \n",
       " 23   Environmental Policy And Management, Masters (...   \n",
       " 24                               Psychology, PhD (F18)   \n",
       " 25               (Computer Science ) MS, Masters (F18)   \n",
       " 26               (Computer Science ) MS, Masters (F18)   \n",
       " 27                                Economics, PhD (F18)   \n",
       " 28                                 (English, PhD (F18)   \n",
       " 29                              Geology, Masters (F18)   \n",
       " ..                                                 ...   \n",
       " 220  Mechanical And Aerospace Engineering, Masters ...   \n",
       " 221    Mechanical And Aeroscope Engineering, PhD (F18)   \n",
       " 222                              (Economics, PhD (F18)   \n",
       " 223                           CCC Sociology, PhD (F18)   \n",
       " 224                       (MPhil) Economics, PhD (F18)   \n",
       " 225                               Economics, PhD (F18)   \n",
       " 226                       (MPhil) Economics, PhD (F18)   \n",
       " 227                               Economics, PhD (F18)   \n",
       " 228                             (Education), PhD (F18)   \n",
       " 229                             (Education), PhD (F18)   \n",
       " 230                              Statistics, PhD (F18)   \n",
       " 231                                (English, PhD (F18)   \n",
       " 232  Integrative Genetics And Genomics (IGG), PhD (...   \n",
       " 233                               (English), PhD (F18)   \n",
       " 234                           Biostatistics, PhD (F18)   \n",
       " 235                          Biostatist​ics, PhD (F18)   \n",
       " 236                                 English, PhD (F18)   \n",
       " 237  Environmental Policy And Management, Masters (...   \n",
       " 238                              Statistics, PhD (F18)   \n",
       " 239                          Biostatist​ics, PhD (F18)   \n",
       " 240                               Geography, PhD (F18)   \n",
       " 241       Materials Science And Engineering, PhD (F18)   \n",
       " 242                                 English, PhD (F18)   \n",
       " 243  International Agricultural Development, Master...   \n",
       " 244                                (English, PhD (F18)   \n",
       " 245                                 English, PhD (F18)   \n",
       " 246                   (General) Linguistics, PhD (F18)   \n",
       " 247                                 English, PhD (F18)   \n",
       " 248                               Sociology, PhD (F18)   \n",
       " 249           Creative Writing (Poetry), Masters (F18)   \n",
       " \n",
       "                                        Decision & Date  St1   Date Added  \\\n",
       " 0                  Interview via E-mail on 21 Jan 2019    U  22 Jan 2019   \n",
       " 1                  Interview via E-mail on 19 Jan 2019    A  18 Jan 2019   \n",
       " 2                  Interview via E-mail on 11 Jan 2019    A  12 Jan 2019   \n",
       " 3    Interview via E-mail on 31 Dec 2018 Undergrad ...    A   1 Jan 2019   \n",
       " 4                  Interview via E-mail on 26 Dec 2018    I  26 Dec 2018   \n",
       " 5                    Accepted via Other on 29 May 2018    I   7 Jun 2018   \n",
       " 6    Accepted via E-mail on 1 Jun 2018 Undergrad GP...    A   1 Jun 2018   \n",
       " 7    Accepted via E-mail on 1 Jun 2018 Undergrad GP...    A   1 Jun 2018   \n",
       " 8    Other via Other on 28 May 2018 Undergrad GPA: ...    I  28 May 2018   \n",
       " 9                   Rejected via E-mail on 24 May 2018  NaN  24 May 2018   \n",
       " 10                  Rejected via E-mail on 16 May 2018    I  16 May 2018   \n",
       " 11                  Rejected via E-mail on 16 May 2018    I  16 May 2018   \n",
       " 12                  Rejected via E-mail on 16 May 2018    I  16 May 2018   \n",
       " 13                      Other via Other on 15 May 2018    O  15 May 2018   \n",
       " 14                      Other via Other on 14 May 2018    I  14 May 2018   \n",
       " 15                  Rejected via E-mail on 11 May 2018  NaN  13 May 2018   \n",
       " 16                  Rejected via E-mail on 10 May 2018    I  10 May 2018   \n",
       " 17                      Other via Other on 10 May 2018    I  10 May 2018   \n",
       " 18   Accepted via E-mail on 9 May 2018 Undergrad GP...    U   9 May 2018   \n",
       " 19   Other via Other on 9 May 2018 Undergrad GPA: 3...    I   9 May 2018   \n",
       " 20                       Other via Other on 9 May 2018    O   9 May 2018   \n",
       " 21                       Other via Other on 8 May 2018    I   8 May 2018   \n",
       " 22                       Other via Other on 8 May 2018    I   8 May 2018   \n",
       " 23                   Accepted via E-mail on 6 May 2018    A   6 May 2018   \n",
       " 24                   Rejected via E-mail on 4 May 2018    A   4 May 2018   \n",
       " 25                       Other via Other on 1 May 2018    O   1 May 2018   \n",
       " 26                       Other via Other on 1 May 2018    I   1 May 2018   \n",
       " 27   Rejected via E-mail on 27 Apr 2018 Undergrad G...    I  27 Apr 2018   \n",
       " 28                  Rejected via E-mail on 26 Apr 2018    A  26 Apr 2018   \n",
       " 29                  Rejected via E-mail on 26 Apr 2018    A  26 Apr 2018   \n",
       " ..                                                 ...  ...          ...   \n",
       " 220  Accepted via E-mail on 24 Feb 2018 Undergrad G...    I  25 Feb 2018   \n",
       " 221                 Rejected via E-mail on 24 Feb 2018    I  25 Feb 2018   \n",
       " 222  Accepted via E-mail on 25 Feb 2018 Undergrad G...    I  25 Feb 2018   \n",
       " 223                 Rejected via E-mail on 18 Feb 2018    A  25 Feb 2018   \n",
       " 224  Accepted via E-mail on 24 Feb 2018 Undergrad G...    U  24 Feb 2018   \n",
       " 225                 Accepted via E-mail on 24 Feb 2018    A  24 Feb 2018   \n",
       " 226                 Accepted via E-mail on 24 Feb 2018    I  24 Feb 2018   \n",
       " 227  Accepted via E-mail on 24 Feb 2018 Undergrad G...    A  24 Feb 2018   \n",
       " 228  Rejected via E-mail on 24 Feb 2018 Undergrad G...    A  24 Feb 2018   \n",
       " 229  Rejected via E-mail on 24 Feb 2018 Undergrad G...    A  24 Feb 2018   \n",
       " 230                Accepted via Website on 24 Feb 2018    I  24 Feb 2018   \n",
       " 231                Rejected via Website on 22 Feb 2018    A  24 Feb 2018   \n",
       " 232                  Accepted via Phone on 24 Feb 2018    A  24 Feb 2018   \n",
       " 233                 Rejected via E-mail on 23 Feb 2018  NaN  23 Feb 2018   \n",
       " 234                 Accepted via E-mail on 23 Feb 2018    I  23 Feb 2018   \n",
       " 235  Accepted via E-mail on 23 Feb 2018 Undergrad G...    A  23 Feb 2018   \n",
       " 236                 Rejected via E-mail on 23 Feb 2018    A  23 Feb 2018   \n",
       " 237                 Accepted via E-mail on 23 Feb 2018  NaN  23 Feb 2018   \n",
       " 238                Accepted via Website on 23 Feb 2018    U  23 Feb 2018   \n",
       " 239  Accepted via E-mail on 22 Feb 2018 Undergrad G...    I  23 Feb 2018   \n",
       " 240                 Rejected via E-mail on 23 Feb 2018    U  23 Feb 2018   \n",
       " 241              Wait listed via E-mail on 14 Feb 2018    A  23 Feb 2018   \n",
       " 242  Rejected via E-mail on 22 Feb 2018 Undergrad G...    A  22 Feb 2018   \n",
       " 243  Rejected via E-mail on 4 Feb 2018 Undergrad GP...    A  22 Feb 2018   \n",
       " 244  Rejected via E-mail on 22 Feb 2018 Undergrad G...    A  22 Feb 2018   \n",
       " 245                 Rejected via E-mail on 22 Feb 2018    A  22 Feb 2018   \n",
       " 246                 Rejected via E-mail on 22 Feb 2018  NaN  22 Feb 2018   \n",
       " 247                 Rejected via E-mail on 22 Feb 2018    I  22 Feb 2018   \n",
       " 248                 Accepted via E-mail on 18 Feb 2018    A  21 Feb 2018   \n",
       " 249              Wait listed via E-mail on 19 Feb 2018    A  21 Feb 2018   \n",
       " \n",
       "                                                  Notes  \n",
       " 0                                                  NaN  \n",
       " 1                                                  NaN  \n",
       " 2                   Interviews on February 8th and 9th  \n",
       " 3    1 year undergrad research, 1 year-ish current ...  \n",
       " 4    4 publications, MS degree, Ph.D candidates fro...  \n",
       " 5    Got an interview with a professor on May 21st ...  \n",
       " 6    Worked in computer science related jobs all th...  \n",
       " 7    I have no idea what took them so long. Already...  \n",
       " 8    Anybody else still waiting for their decision ...  \n",
       " 9     I had an interview with a professor 4 month ago.  \n",
       " 10   Finally! I’ve already accepted another offer a...  \n",
       " 11   Just 2 admits out of 9 universities. Guess it ...  \n",
       " 12   Just 2 admits out of 9 universities. Guess it ...  \n",
       " 13   I heard back from UC Davis: \"It appears the Co...  \n",
       " 14   wtf is wrong with UCDavis. It's 15th May alrea...  \n",
       " 15                     had decided to go to other else  \n",
       " 16   No additional space available in the graduate ...  \n",
       " 17   To the posters below, did anyone try mailing t...  \n",
       " 18   Notified by email. Very happy. :) HURAAAAYYYYYYYY  \n",
       " 19   On the UC Davis website, it says \"Graduate pro...  \n",
       " 20   Still Waiting. Email to them, but they don't r...  \n",
       " 21   I'm still waiting too. How long will they take!!!  \n",
       " 22   Anyone still waiting? How do I finalize my Uni...  \n",
       " 23   Undergrad in Animal science from Cornell, GPA ...  \n",
       " 24   I knew in late Feb. that I was rejected, as I ...  \n",
       " 25   Yup! Still waiting for MS CS decision. Don't k...  \n",
       " 26   Anyone waiting to hear from them? When can we ...  \n",
       " 27   After being high on the waitlist. It says that...  \n",
       " 28   Emailed to follow up on waitlist and was told ...  \n",
       " 29   Very late notice. But this is new: \"The progra...  \n",
       " ..                                                 ...  \n",
       " 220  I was sent an email with a link to the admissi...  \n",
       " 221  2 years of research experience in spacecraft d...  \n",
       " 222                                        Gpa is grad  \n",
       " 223         Mediocre GRE, research experience 3a/1w/1r  \n",
       " 224  Got accepted right before. 6 acceted/ 1 interv...  \n",
       " 225  Will decline. As poster below said, the email ...  \n",
       " 226                                      a good signal  \n",
       " 227  Just received an email. Appears to be a \"you m...  \n",
       " 228  No additional space available in the graduate ...  \n",
       " 229  No additional space available in the graduate ...  \n",
       " 230                             email to check website  \n",
       " 231  Email went to spam. Not the most elegant wordi...  \n",
       " 232                                                NaN  \n",
       " 233  Rejected by email at 6am, not sure why it didn...  \n",
       " 234                                                NaN  \n",
       " 235                                                NaN  \n",
       " 236  Rejected but I got into a higher ranked univer...  \n",
       " 237  Offered an interview mid-February (15th)- rece...  \n",
       " 238                                                NaN  \n",
       " 239                                Fellowship offered.  \n",
       " 240                             Email to check website  \n",
       " 241                    Email went into my spam folder!  \n",
       " 242  \"Thank you for applying to the University of C...  \n",
       " 243            Straight out of undergrad, not even mad  \n",
       " 244  Email to check website. Said I wasn’t accepted...  \n",
       " 245  Rejected because my work (presented at two con...  \n",
       " 246                                                NaN  \n",
       " 247                                                NaN  \n",
       " 248  I was informed a few days before that I would ...  \n",
       " 249  Personal email from Lucy Corin letting me know...  \n",
       " \n",
       " [250 rows x 6 columns]]"
      ]
     },
     "execution_count": 21,
     "metadata": {},
     "output_type": "execute_result"
    }
   ],
   "source": [
    "data"
   ]
  },
  {
   "cell_type": "code",
   "execution_count": 9,
   "metadata": {},
   "outputs": [
    {
     "data": {
      "text/plain": [
       "1"
      ]
     },
     "execution_count": 9,
     "metadata": {},
     "output_type": "execute_result"
    }
   ],
   "source": [
    "len(data)"
   ]
  },
  {
   "cell_type": "code",
   "execution_count": 22,
   "metadata": {},
   "outputs": [
    {
     "ename": "AttributeError",
     "evalue": "'list' object has no attribute 'head'",
     "output_type": "error",
     "traceback": [
      "\u001b[0;31m---------------------------------------------------------------------------\u001b[0m",
      "\u001b[0;31mAttributeError\u001b[0m                            Traceback (most recent call last)",
      "\u001b[0;32m<ipython-input-22-3591102a07a2>\u001b[0m in \u001b[0;36m<module>\u001b[0;34m\u001b[0m\n\u001b[0;32m----> 1\u001b[0;31m \u001b[0mdata\u001b[0m\u001b[0;34m.\u001b[0m\u001b[0mhead\u001b[0m\u001b[0;34m(\u001b[0m\u001b[0;36m10\u001b[0m\u001b[0;34m)\u001b[0m\u001b[0;34m\u001b[0m\u001b[0;34m\u001b[0m\u001b[0m\n\u001b[0m",
      "\u001b[0;31mAttributeError\u001b[0m: 'list' object has no attribute 'head'"
     ]
    }
   ],
   "source": [
    "data.head(10)  ###why??"
   ]
  },
  {
   "cell_type": "code",
   "execution_count": 25,
   "metadata": {},
   "outputs": [
    {
     "ename": "TypeError",
     "evalue": "list indices must be integers or slices, not str",
     "output_type": "error",
     "traceback": [
      "\u001b[0;31m---------------------------------------------------------------------------\u001b[0m",
      "\u001b[0;31mTypeError\u001b[0m                                 Traceback (most recent call last)",
      "\u001b[0;32m<ipython-input-25-16cd07b87f0d>\u001b[0m in \u001b[0;36m<module>\u001b[0;34m\u001b[0m\n\u001b[0;32m----> 1\u001b[0;31m \u001b[0mdata\u001b[0m\u001b[0;34m[\u001b[0m\u001b[0;34m'Program (Season)'\u001b[0m\u001b[0;34m]\u001b[0m\u001b[0;34m.\u001b[0m\u001b[0mvalue_counts\u001b[0m\u001b[0;34m(\u001b[0m\u001b[0;34m)\u001b[0m\u001b[0;34m\u001b[0m\u001b[0;34m\u001b[0m\u001b[0m\n\u001b[0m",
      "\u001b[0;31mTypeError\u001b[0m: list indices must be integers or slices, not str"
     ]
    }
   ],
   "source": [
    "data['Program (Season)'].value_counts()"
   ]
  },
  {
   "cell_type": "code",
   "execution_count": 26,
   "metadata": {},
   "outputs": [
    {
     "ename": "TypeError",
     "evalue": "list indices must be integers or slices, not str",
     "output_type": "error",
     "traceback": [
      "\u001b[0;31m---------------------------------------------------------------------------\u001b[0m",
      "\u001b[0;31mTypeError\u001b[0m                                 Traceback (most recent call last)",
      "\u001b[0;32m<ipython-input-26-4a52151d1a22>\u001b[0m in \u001b[0;36m<module>\u001b[0;34m\u001b[0m\n\u001b[0;32m----> 1\u001b[0;31m \u001b[0mpd\u001b[0m\u001b[0;34m.\u001b[0m\u001b[0mvalue_counts\u001b[0m\u001b[0;34m(\u001b[0m\u001b[0mdata\u001b[0m\u001b[0;34m[\u001b[0m\u001b[0;34m'Program (Season)'\u001b[0m\u001b[0;34m]\u001b[0m\u001b[0;34m)\u001b[0m\u001b[0;34m\u001b[0m\u001b[0;34m\u001b[0m\u001b[0m\n\u001b[0m",
      "\u001b[0;31mTypeError\u001b[0m: list indices must be integers or slices, not str"
     ]
    }
   ],
   "source": [
    "pd.value_counts(data['Program (Season)'])"
   ]
  },
  {
   "cell_type": "code",
   "execution_count": 27,
   "metadata": {},
   "outputs": [],
   "source": [
    "#####John's question"
   ]
  },
  {
   "cell_type": "code",
   "execution_count": null,
   "metadata": {},
   "outputs": [],
   "source": [
    "#1"
   ]
  },
  {
   "cell_type": "code",
   "execution_count": 29,
   "metadata": {},
   "outputs": [],
   "source": [
    "url = 'http://api.fantasy.nfl.com/v1/docs/service?serviceName=playersStats'"
   ]
  },
  {
   "cell_type": "code",
   "execution_count": 30,
   "metadata": {},
   "outputs": [],
   "source": [
    "resp = requests.get(url)"
   ]
  },
  {
   "cell_type": "code",
   "execution_count": 31,
   "metadata": {},
   "outputs": [
    {
     "data": {
      "text/plain": [
       "<Response [200]>"
      ]
     },
     "execution_count": 31,
     "metadata": {},
     "output_type": "execute_result"
    }
   ],
   "source": [
    "resp"
   ]
  },
  {
   "cell_type": "code",
   "execution_count": 32,
   "metadata": {},
   "outputs": [],
   "source": [
    "#2"
   ]
  },
  {
   "cell_type": "code",
   "execution_count": 33,
   "metadata": {},
   "outputs": [
    {
     "ename": "JSONDecodeError",
     "evalue": "Expecting value: line 1 column 1 (char 0)",
     "output_type": "error",
     "traceback": [
      "\u001b[0;31m---------------------------------------------------------------------------\u001b[0m",
      "\u001b[0;31mJSONDecodeError\u001b[0m                           Traceback (most recent call last)",
      "\u001b[0;32m<ipython-input-33-6f3e52d3ef06>\u001b[0m in \u001b[0;36m<module>\u001b[0;34m\u001b[0m\n\u001b[0;32m----> 1\u001b[0;31m \u001b[0mdata\u001b[0m \u001b[0;34m=\u001b[0m \u001b[0mresp\u001b[0m\u001b[0;34m.\u001b[0m\u001b[0mjson\u001b[0m\u001b[0;34m(\u001b[0m\u001b[0;34m)\u001b[0m\u001b[0;34m\u001b[0m\u001b[0;34m\u001b[0m\u001b[0m\n\u001b[0m",
      "\u001b[0;32m~/anaconda3/lib/python3.6/site-packages/requests/models.py\u001b[0m in \u001b[0;36mjson\u001b[0;34m(self, **kwargs)\u001b[0m\n\u001b[1;32m    895\u001b[0m                     \u001b[0;31m# used.\u001b[0m\u001b[0;34m\u001b[0m\u001b[0;34m\u001b[0m\u001b[0;34m\u001b[0m\u001b[0m\n\u001b[1;32m    896\u001b[0m                     \u001b[0;32mpass\u001b[0m\u001b[0;34m\u001b[0m\u001b[0;34m\u001b[0m\u001b[0m\n\u001b[0;32m--> 897\u001b[0;31m         \u001b[0;32mreturn\u001b[0m \u001b[0mcomplexjson\u001b[0m\u001b[0;34m.\u001b[0m\u001b[0mloads\u001b[0m\u001b[0;34m(\u001b[0m\u001b[0mself\u001b[0m\u001b[0;34m.\u001b[0m\u001b[0mtext\u001b[0m\u001b[0;34m,\u001b[0m \u001b[0;34m**\u001b[0m\u001b[0mkwargs\u001b[0m\u001b[0;34m)\u001b[0m\u001b[0;34m\u001b[0m\u001b[0;34m\u001b[0m\u001b[0m\n\u001b[0m\u001b[1;32m    898\u001b[0m \u001b[0;34m\u001b[0m\u001b[0m\n\u001b[1;32m    899\u001b[0m     \u001b[0;34m@\u001b[0m\u001b[0mproperty\u001b[0m\u001b[0;34m\u001b[0m\u001b[0;34m\u001b[0m\u001b[0m\n",
      "\u001b[0;32m~/anaconda3/lib/python3.6/json/__init__.py\u001b[0m in \u001b[0;36mloads\u001b[0;34m(s, encoding, cls, object_hook, parse_float, parse_int, parse_constant, object_pairs_hook, **kw)\u001b[0m\n\u001b[1;32m    352\u001b[0m             \u001b[0mparse_int\u001b[0m \u001b[0;32mis\u001b[0m \u001b[0;32mNone\u001b[0m \u001b[0;32mand\u001b[0m \u001b[0mparse_float\u001b[0m \u001b[0;32mis\u001b[0m \u001b[0;32mNone\u001b[0m \u001b[0;32mand\u001b[0m\u001b[0;34m\u001b[0m\u001b[0;34m\u001b[0m\u001b[0m\n\u001b[1;32m    353\u001b[0m             parse_constant is None and object_pairs_hook is None and not kw):\n\u001b[0;32m--> 354\u001b[0;31m         \u001b[0;32mreturn\u001b[0m \u001b[0m_default_decoder\u001b[0m\u001b[0;34m.\u001b[0m\u001b[0mdecode\u001b[0m\u001b[0;34m(\u001b[0m\u001b[0ms\u001b[0m\u001b[0;34m)\u001b[0m\u001b[0;34m\u001b[0m\u001b[0;34m\u001b[0m\u001b[0m\n\u001b[0m\u001b[1;32m    355\u001b[0m     \u001b[0;32mif\u001b[0m \u001b[0mcls\u001b[0m \u001b[0;32mis\u001b[0m \u001b[0;32mNone\u001b[0m\u001b[0;34m:\u001b[0m\u001b[0;34m\u001b[0m\u001b[0;34m\u001b[0m\u001b[0m\n\u001b[1;32m    356\u001b[0m         \u001b[0mcls\u001b[0m \u001b[0;34m=\u001b[0m \u001b[0mJSONDecoder\u001b[0m\u001b[0;34m\u001b[0m\u001b[0;34m\u001b[0m\u001b[0m\n",
      "\u001b[0;32m~/anaconda3/lib/python3.6/json/decoder.py\u001b[0m in \u001b[0;36mdecode\u001b[0;34m(self, s, _w)\u001b[0m\n\u001b[1;32m    337\u001b[0m \u001b[0;34m\u001b[0m\u001b[0m\n\u001b[1;32m    338\u001b[0m         \"\"\"\n\u001b[0;32m--> 339\u001b[0;31m         \u001b[0mobj\u001b[0m\u001b[0;34m,\u001b[0m \u001b[0mend\u001b[0m \u001b[0;34m=\u001b[0m \u001b[0mself\u001b[0m\u001b[0;34m.\u001b[0m\u001b[0mraw_decode\u001b[0m\u001b[0;34m(\u001b[0m\u001b[0ms\u001b[0m\u001b[0;34m,\u001b[0m \u001b[0midx\u001b[0m\u001b[0;34m=\u001b[0m\u001b[0m_w\u001b[0m\u001b[0;34m(\u001b[0m\u001b[0ms\u001b[0m\u001b[0;34m,\u001b[0m \u001b[0;36m0\u001b[0m\u001b[0;34m)\u001b[0m\u001b[0;34m.\u001b[0m\u001b[0mend\u001b[0m\u001b[0;34m(\u001b[0m\u001b[0;34m)\u001b[0m\u001b[0;34m)\u001b[0m\u001b[0;34m\u001b[0m\u001b[0;34m\u001b[0m\u001b[0m\n\u001b[0m\u001b[1;32m    340\u001b[0m         \u001b[0mend\u001b[0m \u001b[0;34m=\u001b[0m \u001b[0m_w\u001b[0m\u001b[0;34m(\u001b[0m\u001b[0ms\u001b[0m\u001b[0;34m,\u001b[0m \u001b[0mend\u001b[0m\u001b[0;34m)\u001b[0m\u001b[0;34m.\u001b[0m\u001b[0mend\u001b[0m\u001b[0;34m(\u001b[0m\u001b[0;34m)\u001b[0m\u001b[0;34m\u001b[0m\u001b[0;34m\u001b[0m\u001b[0m\n\u001b[1;32m    341\u001b[0m         \u001b[0;32mif\u001b[0m \u001b[0mend\u001b[0m \u001b[0;34m!=\u001b[0m \u001b[0mlen\u001b[0m\u001b[0;34m(\u001b[0m\u001b[0ms\u001b[0m\u001b[0;34m)\u001b[0m\u001b[0;34m:\u001b[0m\u001b[0;34m\u001b[0m\u001b[0;34m\u001b[0m\u001b[0m\n",
      "\u001b[0;32m~/anaconda3/lib/python3.6/json/decoder.py\u001b[0m in \u001b[0;36mraw_decode\u001b[0;34m(self, s, idx)\u001b[0m\n\u001b[1;32m    355\u001b[0m             \u001b[0mobj\u001b[0m\u001b[0;34m,\u001b[0m \u001b[0mend\u001b[0m \u001b[0;34m=\u001b[0m \u001b[0mself\u001b[0m\u001b[0;34m.\u001b[0m\u001b[0mscan_once\u001b[0m\u001b[0;34m(\u001b[0m\u001b[0ms\u001b[0m\u001b[0;34m,\u001b[0m \u001b[0midx\u001b[0m\u001b[0;34m)\u001b[0m\u001b[0;34m\u001b[0m\u001b[0;34m\u001b[0m\u001b[0m\n\u001b[1;32m    356\u001b[0m         \u001b[0;32mexcept\u001b[0m \u001b[0mStopIteration\u001b[0m \u001b[0;32mas\u001b[0m \u001b[0merr\u001b[0m\u001b[0;34m:\u001b[0m\u001b[0;34m\u001b[0m\u001b[0;34m\u001b[0m\u001b[0m\n\u001b[0;32m--> 357\u001b[0;31m             \u001b[0;32mraise\u001b[0m \u001b[0mJSONDecodeError\u001b[0m\u001b[0;34m(\u001b[0m\u001b[0;34m\"Expecting value\"\u001b[0m\u001b[0;34m,\u001b[0m \u001b[0ms\u001b[0m\u001b[0;34m,\u001b[0m \u001b[0merr\u001b[0m\u001b[0;34m.\u001b[0m\u001b[0mvalue\u001b[0m\u001b[0;34m)\u001b[0m \u001b[0;32mfrom\u001b[0m \u001b[0;32mNone\u001b[0m\u001b[0;34m\u001b[0m\u001b[0;34m\u001b[0m\u001b[0m\n\u001b[0m\u001b[1;32m    358\u001b[0m         \u001b[0;32mreturn\u001b[0m \u001b[0mobj\u001b[0m\u001b[0;34m,\u001b[0m \u001b[0mend\u001b[0m\u001b[0;34m\u001b[0m\u001b[0;34m\u001b[0m\u001b[0m\n",
      "\u001b[0;31mJSONDecodeError\u001b[0m: Expecting value: line 1 column 1 (char 0)"
     ]
    }
   ],
   "source": [
    "data = resp.json()"
   ]
  },
  {
   "cell_type": "code",
   "execution_count": null,
   "metadata": {},
   "outputs": [],
   "source": []
  },
  {
   "cell_type": "code",
   "execution_count": 34,
   "metadata": {},
   "outputs": [],
   "source": [
    "#####Min-Yao's question"
   ]
  },
  {
   "cell_type": "code",
   "execution_count": null,
   "metadata": {},
   "outputs": [],
   "source": []
  }
 ],
 "metadata": {
  "kernelspec": {
   "display_name": "Python 3",
   "language": "python",
   "name": "python3"
  },
  "language_info": {
   "codemirror_mode": {
    "name": "ipython",
    "version": 3
   },
   "file_extension": ".py",
   "mimetype": "text/x-python",
   "name": "python",
   "nbconvert_exporter": "python",
   "pygments_lexer": "ipython3",
   "version": "3.6.8"
  }
 },
 "nbformat": 4,
 "nbformat_minor": 2
}
