{
 "cells": [
  {
   "cell_type": "code",
   "execution_count": 1,
   "metadata": {},
   "outputs": [],
   "source": [
    "import pandas as pd\n",
    "import numpy as np\n",
    "from numpy import nan as NA"
   ]
  },
  {
   "cell_type": "code",
   "execution_count": 2,
   "metadata": {},
   "outputs": [],
   "source": [
    "###1. Read csv file, named \"\". Set two indexes for the columns 'miR' and 'category'"
   ]
  },
  {
   "cell_type": "code",
   "execution_count": 3,
   "metadata": {},
   "outputs": [],
   "source": [
    "data = pd.read_csv('Rie_Chap8part1Data.021319.csv')"
   ]
  },
  {
   "cell_type": "code",
   "execution_count": 4,
   "metadata": {},
   "outputs": [
    {
     "data": {
      "text/html": [
       "<div>\n",
       "<style scoped>\n",
       "    .dataframe tbody tr th:only-of-type {\n",
       "        vertical-align: middle;\n",
       "    }\n",
       "\n",
       "    .dataframe tbody tr th {\n",
       "        vertical-align: top;\n",
       "    }\n",
       "\n",
       "    .dataframe thead th {\n",
       "        text-align: right;\n",
       "    }\n",
       "</style>\n",
       "<table border=\"1\" class=\"dataframe\">\n",
       "  <thead>\n",
       "    <tr style=\"text-align: right;\">\n",
       "      <th></th>\n",
       "      <th>miR</th>\n",
       "      <th>Target</th>\n",
       "      <th>category</th>\n",
       "      <th>cor</th>\n",
       "    </tr>\n",
       "  </thead>\n",
       "  <tbody>\n",
       "    <tr>\n",
       "      <th>0</th>\n",
       "      <td>gma-miR156(k,n,o)</td>\n",
       "      <td>Glyma06g36140</td>\n",
       "      <td>known</td>\n",
       "      <td>-0.793254</td>\n",
       "    </tr>\n",
       "    <tr>\n",
       "      <th>1</th>\n",
       "      <td>gma-miR156(k,n,o)</td>\n",
       "      <td>Glyma03g29901</td>\n",
       "      <td>known</td>\n",
       "      <td>-0.783733</td>\n",
       "    </tr>\n",
       "    <tr>\n",
       "      <th>2</th>\n",
       "      <td>gma-miR156(a,h,u,v,w,x,y)</td>\n",
       "      <td>Glyma06g36140</td>\n",
       "      <td>known</td>\n",
       "      <td>-0.781940</td>\n",
       "    </tr>\n",
       "    <tr>\n",
       "      <th>3</th>\n",
       "      <td>gma-miR156(c,d,i,j,l,m)</td>\n",
       "      <td>Glyma01g08056</td>\n",
       "      <td>known</td>\n",
       "      <td>-0.758367</td>\n",
       "    </tr>\n",
       "    <tr>\n",
       "      <th>4</th>\n",
       "      <td>gma-miR396(b-5p,c,k-5p)</td>\n",
       "      <td>Glyma01g02880</td>\n",
       "      <td>known</td>\n",
       "      <td>-0.751431</td>\n",
       "    </tr>\n",
       "  </tbody>\n",
       "</table>\n",
       "</div>"
      ],
      "text/plain": [
       "                         miR         Target category       cor\n",
       "0          gma-miR156(k,n,o)  Glyma06g36140    known -0.793254\n",
       "1          gma-miR156(k,n,o)  Glyma03g29901    known -0.783733\n",
       "2  gma-miR156(a,h,u,v,w,x,y)  Glyma06g36140    known -0.781940\n",
       "3    gma-miR156(c,d,i,j,l,m)  Glyma01g08056    known -0.758367\n",
       "4    gma-miR396(b-5p,c,k-5p)  Glyma01g02880    known -0.751431"
      ]
     },
     "execution_count": 4,
     "metadata": {},
     "output_type": "execute_result"
    }
   ],
   "source": [
    "data.head()"
   ]
  },
  {
   "cell_type": "code",
   "execution_count": null,
   "metadata": {},
   "outputs": [],
   "source": []
  },
  {
   "cell_type": "code",
   "execution_count": 5,
   "metadata": {},
   "outputs": [],
   "source": [
    "data2 = data.set_index(['miR','category'])"
   ]
  },
  {
   "cell_type": "code",
   "execution_count": 6,
   "metadata": {},
   "outputs": [
    {
     "data": {
      "text/html": [
       "<div>\n",
       "<style scoped>\n",
       "    .dataframe tbody tr th:only-of-type {\n",
       "        vertical-align: middle;\n",
       "    }\n",
       "\n",
       "    .dataframe tbody tr th {\n",
       "        vertical-align: top;\n",
       "    }\n",
       "\n",
       "    .dataframe thead th {\n",
       "        text-align: right;\n",
       "    }\n",
       "</style>\n",
       "<table border=\"1\" class=\"dataframe\">\n",
       "  <thead>\n",
       "    <tr style=\"text-align: right;\">\n",
       "      <th></th>\n",
       "      <th></th>\n",
       "      <th>Target</th>\n",
       "      <th>cor</th>\n",
       "    </tr>\n",
       "    <tr>\n",
       "      <th>miR</th>\n",
       "      <th>category</th>\n",
       "      <th></th>\n",
       "      <th></th>\n",
       "    </tr>\n",
       "  </thead>\n",
       "  <tbody>\n",
       "    <tr>\n",
       "      <th rowspan=\"2\" valign=\"top\">gma-miR156(k,n,o)</th>\n",
       "      <th>known</th>\n",
       "      <td>Glyma06g36140</td>\n",
       "      <td>-0.793254</td>\n",
       "    </tr>\n",
       "    <tr>\n",
       "      <th>known</th>\n",
       "      <td>Glyma03g29901</td>\n",
       "      <td>-0.783733</td>\n",
       "    </tr>\n",
       "    <tr>\n",
       "      <th>gma-miR156(a,h,u,v,w,x,y)</th>\n",
       "      <th>known</th>\n",
       "      <td>Glyma06g36140</td>\n",
       "      <td>-0.781940</td>\n",
       "    </tr>\n",
       "    <tr>\n",
       "      <th>gma-miR156(c,d,i,j,l,m)</th>\n",
       "      <th>known</th>\n",
       "      <td>Glyma01g08056</td>\n",
       "      <td>-0.758367</td>\n",
       "    </tr>\n",
       "    <tr>\n",
       "      <th>gma-miR396(b-5p,c,k-5p)</th>\n",
       "      <th>known</th>\n",
       "      <td>Glyma01g02880</td>\n",
       "      <td>-0.751431</td>\n",
       "    </tr>\n",
       "  </tbody>\n",
       "</table>\n",
       "</div>"
      ],
      "text/plain": [
       "                                           Target       cor\n",
       "miR                       category                         \n",
       "gma-miR156(k,n,o)         known     Glyma06g36140 -0.793254\n",
       "                          known     Glyma03g29901 -0.783733\n",
       "gma-miR156(a,h,u,v,w,x,y) known     Glyma06g36140 -0.781940\n",
       "gma-miR156(c,d,i,j,l,m)   known     Glyma01g08056 -0.758367\n",
       "gma-miR396(b-5p,c,k-5p)   known     Glyma01g02880 -0.751431"
      ]
     },
     "execution_count": 6,
     "metadata": {},
     "output_type": "execute_result"
    }
   ],
   "source": [
    "data2.head()"
   ]
  },
  {
   "cell_type": "code",
   "execution_count": null,
   "metadata": {},
   "outputs": [],
   "source": []
  },
  {
   "cell_type": "code",
   "execution_count": 7,
   "metadata": {},
   "outputs": [],
   "source": [
    "###2. Select the data based on the category (known and novel). Hint: I reshape the data first. "
   ]
  },
  {
   "cell_type": "code",
   "execution_count": 9,
   "metadata": {},
   "outputs": [],
   "source": [
    "stackData = data2.stack()"
   ]
  },
  {
   "cell_type": "code",
   "execution_count": 10,
   "metadata": {},
   "outputs": [
    {
     "data": {
      "text/plain": [
       "miR                        category        \n",
       "gma-miR156(k,n,o)          known     Target    Glyma06g36140\n",
       "                                     cor           -0.793254\n",
       "                                     Target    Glyma03g29901\n",
       "                                     cor           -0.783733\n",
       "gma-miR156(a,h,u,v,w,x,y)  known     Target    Glyma06g36140\n",
       "dtype: object"
      ]
     },
     "execution_count": 10,
     "metadata": {},
     "output_type": "execute_result"
    }
   ],
   "source": [
    "stackData.head()"
   ]
  },
  {
   "cell_type": "code",
   "execution_count": 11,
   "metadata": {},
   "outputs": [],
   "source": [
    "known = stackData.loc[:, 'known']"
   ]
  },
  {
   "cell_type": "code",
   "execution_count": 13,
   "metadata": {},
   "outputs": [
    {
     "data": {
      "text/plain": [
       "miR                              \n",
       "gma-miR156(k,n,o)          Target    Glyma06g36140\n",
       "                           cor           -0.793254\n",
       "                           Target    Glyma03g29901\n",
       "                           cor           -0.783733\n",
       "gma-miR156(a,h,u,v,w,x,y)  Target    Glyma06g36140\n",
       "dtype: object"
      ]
     },
     "execution_count": 13,
     "metadata": {},
     "output_type": "execute_result"
    }
   ],
   "source": [
    "known.head()"
   ]
  },
  {
   "cell_type": "code",
   "execution_count": 14,
   "metadata": {},
   "outputs": [],
   "source": [
    "novel = stackData.loc[:, 'novel']"
   ]
  },
  {
   "cell_type": "code",
   "execution_count": 15,
   "metadata": {},
   "outputs": [
    {
     "data": {
      "text/plain": [
       "miR                       \n",
       "gma-miR390(b-5p,d)  Target    Glyma20g25540\n",
       "                    cor           -0.736842\n",
       "gma-miR398(c,d)     Target    Glyma06g19680\n",
       "                    cor           -0.660977\n",
       "gma-miR390(b-5p,d)  Target    Glyma10g41680\n",
       "dtype: object"
      ]
     },
     "execution_count": 15,
     "metadata": {},
     "output_type": "execute_result"
    }
   ],
   "source": [
    "novel.head()"
   ]
  },
  {
   "cell_type": "code",
   "execution_count": null,
   "metadata": {},
   "outputs": [],
   "source": []
  }
 ],
 "metadata": {
  "kernelspec": {
   "display_name": "Python 3",
   "language": "python",
   "name": "python3"
  },
  "language_info": {
   "codemirror_mode": {
    "name": "ipython",
    "version": 3
   },
   "file_extension": ".py",
   "mimetype": "text/x-python",
   "name": "python",
   "nbconvert_exporter": "python",
   "pygments_lexer": "ipython3",
   "version": "3.6.8"
  }
 },
 "nbformat": 4,
 "nbformat_minor": 2
}
