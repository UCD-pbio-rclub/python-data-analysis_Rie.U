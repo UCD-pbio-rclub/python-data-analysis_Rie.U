{
 "cells": [
  {
   "cell_type": "code",
   "execution_count": 2,
   "metadata": {},
   "outputs": [],
   "source": [
    "import pandas as pd\n",
    "import numpy as np"
   ]
  },
  {
   "cell_type": "code",
   "execution_count": 3,
   "metadata": {},
   "outputs": [],
   "source": [
    "####1. Read csv file named \"sRNAalignmentToTE.ForChap7Assignment.013119.csv\". Inspect the data"
   ]
  },
  {
   "cell_type": "code",
   "execution_count": 4,
   "metadata": {},
   "outputs": [],
   "source": [
    "data = pd.read_csv('sRNAalignmentToTE.ForChap7Assignment.013119.csv')"
   ]
  },
  {
   "cell_type": "code",
   "execution_count": 5,
   "metadata": {},
   "outputs": [
    {
     "data": {
      "text/html": [
       "<div>\n",
       "<style scoped>\n",
       "    .dataframe tbody tr th:only-of-type {\n",
       "        vertical-align: middle;\n",
       "    }\n",
       "\n",
       "    .dataframe tbody tr th {\n",
       "        vertical-align: top;\n",
       "    }\n",
       "\n",
       "    .dataframe thead th {\n",
       "        text-align: right;\n",
       "    }\n",
       "</style>\n",
       "<table border=\"1\" class=\"dataframe\">\n",
       "  <thead>\n",
       "    <tr style=\"text-align: right;\">\n",
       "      <th></th>\n",
       "      <th>totalReads</th>\n",
       "      <th>Aligned</th>\n",
       "      <th>notAligned</th>\n",
       "      <th>libName</th>\n",
       "    </tr>\n",
       "  </thead>\n",
       "  <tbody>\n",
       "    <tr>\n",
       "      <th>0</th>\n",
       "      <td>1530841</td>\n",
       "      <td>37407 (2.44%)</td>\n",
       "      <td>1493434 (97.56%)</td>\n",
       "      <td>cot-EP-EP-1.qual.clipped.noRDNAorTDNA.Gmax_189...</td>\n",
       "    </tr>\n",
       "    <tr>\n",
       "      <th>1</th>\n",
       "      <td>526938</td>\n",
       "      <td>125711 (23.86%)</td>\n",
       "      <td>401227 (76.14%)</td>\n",
       "      <td>cot-EP-EP-1.qual.clipped.noRDNAorTDNA.Gmax_189...</td>\n",
       "    </tr>\n",
       "    <tr>\n",
       "      <th>2</th>\n",
       "      <td>2889626</td>\n",
       "      <td>816373 (28.25%)</td>\n",
       "      <td>2073253 (71.75%)</td>\n",
       "      <td>cot-EP-EP-1.qual.clipped.noRDNAorTDNA.Gmax_189...</td>\n",
       "    </tr>\n",
       "    <tr>\n",
       "      <th>3</th>\n",
       "      <td>1541795</td>\n",
       "      <td>40918 (2.65%)</td>\n",
       "      <td>1500877 (97.35%)</td>\n",
       "      <td>cot-EP-EP-2.qual.clipped.noRDNAorTDNA.Gmax_189...</td>\n",
       "    </tr>\n",
       "    <tr>\n",
       "      <th>4</th>\n",
       "      <td>629472</td>\n",
       "      <td>140798 (22.37%)</td>\n",
       "      <td>488674 (77.63%)</td>\n",
       "      <td>cot-EP-EP-2.qual.clipped.noRDNAorTDNA.Gmax_189...</td>\n",
       "    </tr>\n",
       "  </tbody>\n",
       "</table>\n",
       "</div>"
      ],
      "text/plain": [
       "   totalReads           Aligned         notAligned  \\\n",
       "0     1530841     37407 (2.44%)   1493434 (97.56%)   \n",
       "1      526938   125711 (23.86%)    401227 (76.14%)   \n",
       "2     2889626   816373 (28.25%)   2073253 (71.75%)   \n",
       "3     1541795     40918 (2.65%)   1500877 (97.35%)   \n",
       "4      629472   140798 (22.37%)    488674 (77.63%)   \n",
       "\n",
       "                                             libName  \n",
       "0  cot-EP-EP-1.qual.clipped.noRDNAorTDNA.Gmax_189...  \n",
       "1  cot-EP-EP-1.qual.clipped.noRDNAorTDNA.Gmax_189...  \n",
       "2  cot-EP-EP-1.qual.clipped.noRDNAorTDNA.Gmax_189...  \n",
       "3  cot-EP-EP-2.qual.clipped.noRDNAorTDNA.Gmax_189...  \n",
       "4  cot-EP-EP-2.qual.clipped.noRDNAorTDNA.Gmax_189...  "
      ]
     },
     "execution_count": 5,
     "metadata": {},
     "output_type": "execute_result"
    }
   ],
   "source": [
    "data.head()"
   ]
  },
  {
   "cell_type": "code",
   "execution_count": 6,
   "metadata": {},
   "outputs": [],
   "source": [
    "#####2. Remove parentheses, put the values in parentheses in the separted columns"
   ]
  },
  {
   "cell_type": "code",
   "execution_count": 14,
   "metadata": {},
   "outputs": [],
   "source": [
    "data[['Aligned','AlginedRatio']] = data['Aligned'].str.split('\\(|\\)', expand = True).iloc[:,[0,1]]"
   ]
  },
  {
   "cell_type": "code",
   "execution_count": 16,
   "metadata": {},
   "outputs": [
    {
     "data": {
      "text/html": [
       "<div>\n",
       "<style scoped>\n",
       "    .dataframe tbody tr th:only-of-type {\n",
       "        vertical-align: middle;\n",
       "    }\n",
       "\n",
       "    .dataframe tbody tr th {\n",
       "        vertical-align: top;\n",
       "    }\n",
       "\n",
       "    .dataframe thead th {\n",
       "        text-align: right;\n",
       "    }\n",
       "</style>\n",
       "<table border=\"1\" class=\"dataframe\">\n",
       "  <thead>\n",
       "    <tr style=\"text-align: right;\">\n",
       "      <th></th>\n",
       "      <th>totalReads</th>\n",
       "      <th>Aligned</th>\n",
       "      <th>notAligned</th>\n",
       "      <th>libName</th>\n",
       "      <th>AlginedRatio</th>\n",
       "    </tr>\n",
       "  </thead>\n",
       "  <tbody>\n",
       "    <tr>\n",
       "      <th>0</th>\n",
       "      <td>1530841</td>\n",
       "      <td>37407</td>\n",
       "      <td>1493434 (97.56%)</td>\n",
       "      <td>cot-EP-EP-1.qual.clipped.noRDNAorTDNA.Gmax_189...</td>\n",
       "      <td>2.44%</td>\n",
       "    </tr>\n",
       "    <tr>\n",
       "      <th>1</th>\n",
       "      <td>526938</td>\n",
       "      <td>125711</td>\n",
       "      <td>401227 (76.14%)</td>\n",
       "      <td>cot-EP-EP-1.qual.clipped.noRDNAorTDNA.Gmax_189...</td>\n",
       "      <td>23.86%</td>\n",
       "    </tr>\n",
       "    <tr>\n",
       "      <th>2</th>\n",
       "      <td>2889626</td>\n",
       "      <td>816373</td>\n",
       "      <td>2073253 (71.75%)</td>\n",
       "      <td>cot-EP-EP-1.qual.clipped.noRDNAorTDNA.Gmax_189...</td>\n",
       "      <td>28.25%</td>\n",
       "    </tr>\n",
       "    <tr>\n",
       "      <th>3</th>\n",
       "      <td>1541795</td>\n",
       "      <td>40918</td>\n",
       "      <td>1500877 (97.35%)</td>\n",
       "      <td>cot-EP-EP-2.qual.clipped.noRDNAorTDNA.Gmax_189...</td>\n",
       "      <td>2.65%</td>\n",
       "    </tr>\n",
       "    <tr>\n",
       "      <th>4</th>\n",
       "      <td>629472</td>\n",
       "      <td>140798</td>\n",
       "      <td>488674 (77.63%)</td>\n",
       "      <td>cot-EP-EP-2.qual.clipped.noRDNAorTDNA.Gmax_189...</td>\n",
       "      <td>22.37%</td>\n",
       "    </tr>\n",
       "  </tbody>\n",
       "</table>\n",
       "</div>"
      ],
      "text/plain": [
       "   totalReads   Aligned         notAligned  \\\n",
       "0     1530841    37407    1493434 (97.56%)   \n",
       "1      526938   125711     401227 (76.14%)   \n",
       "2     2889626   816373    2073253 (71.75%)   \n",
       "3     1541795    40918    1500877 (97.35%)   \n",
       "4      629472   140798     488674 (77.63%)   \n",
       "\n",
       "                                             libName AlginedRatio  \n",
       "0  cot-EP-EP-1.qual.clipped.noRDNAorTDNA.Gmax_189...        2.44%  \n",
       "1  cot-EP-EP-1.qual.clipped.noRDNAorTDNA.Gmax_189...       23.86%  \n",
       "2  cot-EP-EP-1.qual.clipped.noRDNAorTDNA.Gmax_189...       28.25%  \n",
       "3  cot-EP-EP-2.qual.clipped.noRDNAorTDNA.Gmax_189...        2.65%  \n",
       "4  cot-EP-EP-2.qual.clipped.noRDNAorTDNA.Gmax_189...       22.37%  "
      ]
     },
     "execution_count": 16,
     "metadata": {},
     "output_type": "execute_result"
    }
   ],
   "source": [
    "data.head()"
   ]
  },
  {
   "cell_type": "code",
   "execution_count": 17,
   "metadata": {},
   "outputs": [],
   "source": [
    "data[['notAligned','notAlginedRatio']] = data['notAligned'].str.split('\\(|\\)', expand = True).iloc[:,[0,1]]"
   ]
  },
  {
   "cell_type": "code",
   "execution_count": 18,
   "metadata": {},
   "outputs": [
    {
     "data": {
      "text/html": [
       "<div>\n",
       "<style scoped>\n",
       "    .dataframe tbody tr th:only-of-type {\n",
       "        vertical-align: middle;\n",
       "    }\n",
       "\n",
       "    .dataframe tbody tr th {\n",
       "        vertical-align: top;\n",
       "    }\n",
       "\n",
       "    .dataframe thead th {\n",
       "        text-align: right;\n",
       "    }\n",
       "</style>\n",
       "<table border=\"1\" class=\"dataframe\">\n",
       "  <thead>\n",
       "    <tr style=\"text-align: right;\">\n",
       "      <th></th>\n",
       "      <th>totalReads</th>\n",
       "      <th>Aligned</th>\n",
       "      <th>notAligned</th>\n",
       "      <th>libName</th>\n",
       "      <th>AlginedRatio</th>\n",
       "      <th>notAlginedRatio</th>\n",
       "    </tr>\n",
       "  </thead>\n",
       "  <tbody>\n",
       "    <tr>\n",
       "      <th>0</th>\n",
       "      <td>1530841</td>\n",
       "      <td>37407</td>\n",
       "      <td>1493434</td>\n",
       "      <td>cot-EP-EP-1.qual.clipped.noRDNAorTDNA.Gmax_189...</td>\n",
       "      <td>2.44%</td>\n",
       "      <td>97.56%</td>\n",
       "    </tr>\n",
       "    <tr>\n",
       "      <th>1</th>\n",
       "      <td>526938</td>\n",
       "      <td>125711</td>\n",
       "      <td>401227</td>\n",
       "      <td>cot-EP-EP-1.qual.clipped.noRDNAorTDNA.Gmax_189...</td>\n",
       "      <td>23.86%</td>\n",
       "      <td>76.14%</td>\n",
       "    </tr>\n",
       "    <tr>\n",
       "      <th>2</th>\n",
       "      <td>2889626</td>\n",
       "      <td>816373</td>\n",
       "      <td>2073253</td>\n",
       "      <td>cot-EP-EP-1.qual.clipped.noRDNAorTDNA.Gmax_189...</td>\n",
       "      <td>28.25%</td>\n",
       "      <td>71.75%</td>\n",
       "    </tr>\n",
       "    <tr>\n",
       "      <th>3</th>\n",
       "      <td>1541795</td>\n",
       "      <td>40918</td>\n",
       "      <td>1500877</td>\n",
       "      <td>cot-EP-EP-2.qual.clipped.noRDNAorTDNA.Gmax_189...</td>\n",
       "      <td>2.65%</td>\n",
       "      <td>97.35%</td>\n",
       "    </tr>\n",
       "    <tr>\n",
       "      <th>4</th>\n",
       "      <td>629472</td>\n",
       "      <td>140798</td>\n",
       "      <td>488674</td>\n",
       "      <td>cot-EP-EP-2.qual.clipped.noRDNAorTDNA.Gmax_189...</td>\n",
       "      <td>22.37%</td>\n",
       "      <td>77.63%</td>\n",
       "    </tr>\n",
       "  </tbody>\n",
       "</table>\n",
       "</div>"
      ],
      "text/plain": [
       "   totalReads   Aligned notAligned  \\\n",
       "0     1530841    37407    1493434    \n",
       "1      526938   125711     401227    \n",
       "2     2889626   816373    2073253    \n",
       "3     1541795    40918    1500877    \n",
       "4      629472   140798     488674    \n",
       "\n",
       "                                             libName AlginedRatio  \\\n",
       "0  cot-EP-EP-1.qual.clipped.noRDNAorTDNA.Gmax_189...        2.44%   \n",
       "1  cot-EP-EP-1.qual.clipped.noRDNAorTDNA.Gmax_189...       23.86%   \n",
       "2  cot-EP-EP-1.qual.clipped.noRDNAorTDNA.Gmax_189...       28.25%   \n",
       "3  cot-EP-EP-2.qual.clipped.noRDNAorTDNA.Gmax_189...        2.65%   \n",
       "4  cot-EP-EP-2.qual.clipped.noRDNAorTDNA.Gmax_189...       22.37%   \n",
       "\n",
       "  notAlginedRatio  \n",
       "0          97.56%  \n",
       "1          76.14%  \n",
       "2          71.75%  \n",
       "3          97.35%  \n",
       "4          77.63%  "
      ]
     },
     "execution_count": 18,
     "metadata": {},
     "output_type": "execute_result"
    }
   ],
   "source": [
    "data.head()"
   ]
  },
  {
   "cell_type": "code",
   "execution_count": 30,
   "metadata": {},
   "outputs": [
    {
     "data": {
      "text/plain": [
       "Index(['totalReads', 'Aligned', 'notAligned', 'libName', 'AlginedRatio',\n",
       "       'notAlginedRatio'],\n",
       "      dtype='object')"
      ]
     },
     "execution_count": 30,
     "metadata": {},
     "output_type": "execute_result"
    }
   ],
   "source": [
    "data.columns"
   ]
  },
  {
   "cell_type": "code",
   "execution_count": 42,
   "metadata": {},
   "outputs": [],
   "source": [
    "col = ['totalReads', 'Aligned', 'AlginedRatio', 'notAligned','notAlginedRatio', 'libName']"
   ]
  },
  {
   "cell_type": "code",
   "execution_count": 39,
   "metadata": {},
   "outputs": [],
   "source": [
    "data = data.reindex(columns=col)"
   ]
  },
  {
   "cell_type": "code",
   "execution_count": 41,
   "metadata": {},
   "outputs": [
    {
     "data": {
      "text/html": [
       "<div>\n",
       "<style scoped>\n",
       "    .dataframe tbody tr th:only-of-type {\n",
       "        vertical-align: middle;\n",
       "    }\n",
       "\n",
       "    .dataframe tbody tr th {\n",
       "        vertical-align: top;\n",
       "    }\n",
       "\n",
       "    .dataframe thead th {\n",
       "        text-align: right;\n",
       "    }\n",
       "</style>\n",
       "<table border=\"1\" class=\"dataframe\">\n",
       "  <thead>\n",
       "    <tr style=\"text-align: right;\">\n",
       "      <th></th>\n",
       "      <th>totalReads</th>\n",
       "      <th>Aligned</th>\n",
       "      <th>AlginedRatio</th>\n",
       "      <th>notAligned</th>\n",
       "      <th>notAlginedRatio</th>\n",
       "      <th>libName</th>\n",
       "    </tr>\n",
       "  </thead>\n",
       "  <tbody>\n",
       "    <tr>\n",
       "      <th>0</th>\n",
       "      <td>1530841</td>\n",
       "      <td>37407</td>\n",
       "      <td>2.44%</td>\n",
       "      <td>1493434</td>\n",
       "      <td>97.56%</td>\n",
       "      <td>cot-EP-EP-1.qual.clipped.noRDNAorTDNA.Gmax_189...</td>\n",
       "    </tr>\n",
       "    <tr>\n",
       "      <th>1</th>\n",
       "      <td>526938</td>\n",
       "      <td>125711</td>\n",
       "      <td>23.86%</td>\n",
       "      <td>401227</td>\n",
       "      <td>76.14%</td>\n",
       "      <td>cot-EP-EP-1.qual.clipped.noRDNAorTDNA.Gmax_189...</td>\n",
       "    </tr>\n",
       "    <tr>\n",
       "      <th>2</th>\n",
       "      <td>2889626</td>\n",
       "      <td>816373</td>\n",
       "      <td>28.25%</td>\n",
       "      <td>2073253</td>\n",
       "      <td>71.75%</td>\n",
       "      <td>cot-EP-EP-1.qual.clipped.noRDNAorTDNA.Gmax_189...</td>\n",
       "    </tr>\n",
       "    <tr>\n",
       "      <th>3</th>\n",
       "      <td>1541795</td>\n",
       "      <td>40918</td>\n",
       "      <td>2.65%</td>\n",
       "      <td>1500877</td>\n",
       "      <td>97.35%</td>\n",
       "      <td>cot-EP-EP-2.qual.clipped.noRDNAorTDNA.Gmax_189...</td>\n",
       "    </tr>\n",
       "    <tr>\n",
       "      <th>4</th>\n",
       "      <td>629472</td>\n",
       "      <td>140798</td>\n",
       "      <td>22.37%</td>\n",
       "      <td>488674</td>\n",
       "      <td>77.63%</td>\n",
       "      <td>cot-EP-EP-2.qual.clipped.noRDNAorTDNA.Gmax_189...</td>\n",
       "    </tr>\n",
       "  </tbody>\n",
       "</table>\n",
       "</div>"
      ],
      "text/plain": [
       "   totalReads   Aligned AlginedRatio notAligned notAlginedRatio  \\\n",
       "0     1530841    37407         2.44%   1493434           97.56%   \n",
       "1      526938   125711        23.86%    401227           76.14%   \n",
       "2     2889626   816373        28.25%   2073253           71.75%   \n",
       "3     1541795    40918         2.65%   1500877           97.35%   \n",
       "4      629472   140798        22.37%    488674           77.63%   \n",
       "\n",
       "                                             libName  \n",
       "0  cot-EP-EP-1.qual.clipped.noRDNAorTDNA.Gmax_189...  \n",
       "1  cot-EP-EP-1.qual.clipped.noRDNAorTDNA.Gmax_189...  \n",
       "2  cot-EP-EP-1.qual.clipped.noRDNAorTDNA.Gmax_189...  \n",
       "3  cot-EP-EP-2.qual.clipped.noRDNAorTDNA.Gmax_189...  \n",
       "4  cot-EP-EP-2.qual.clipped.noRDNAorTDNA.Gmax_189...  "
      ]
     },
     "execution_count": 41,
     "metadata": {},
     "output_type": "execute_result"
    }
   ],
   "source": [
    "data.head()"
   ]
  },
  {
   "cell_type": "code",
   "execution_count": null,
   "metadata": {},
   "outputs": [],
   "source": []
  }
 ],
 "metadata": {
  "kernelspec": {
   "display_name": "Python 3",
   "language": "python",
   "name": "python3"
  },
  "language_info": {
   "codemirror_mode": {
    "name": "ipython",
    "version": 3
   },
   "file_extension": ".py",
   "mimetype": "text/x-python",
   "name": "python",
   "nbconvert_exporter": "python",
   "pygments_lexer": "ipython3",
   "version": "3.6.8"
  }
 },
 "nbformat": 4,
 "nbformat_minor": 2
}
