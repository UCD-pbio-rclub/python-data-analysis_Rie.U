{
 "cells": [
  {
   "cell_type": "code",
   "execution_count": 3,
   "metadata": {},
   "outputs": [],
   "source": [
    "import pandas as pd\n",
    "import numpy as np"
   ]
  },
  {
   "cell_type": "code",
   "execution_count": 2,
   "metadata": {},
   "outputs": [],
   "source": [
    "#####7.1 Handling Missing Data"
   ]
  },
  {
   "cell_type": "code",
   "execution_count": 3,
   "metadata": {},
   "outputs": [],
   "source": [
    "string_data = pd.Series(['aardvark', 'artichoke', np.nan, 'avocado'])"
   ]
  },
  {
   "cell_type": "code",
   "execution_count": 4,
   "metadata": {},
   "outputs": [
    {
     "data": {
      "text/plain": [
       "0     aardvark\n",
       "1    artichoke\n",
       "2          NaN\n",
       "3      avocado\n",
       "dtype: object"
      ]
     },
     "execution_count": 4,
     "metadata": {},
     "output_type": "execute_result"
    }
   ],
   "source": [
    "string_data"
   ]
  },
  {
   "cell_type": "code",
   "execution_count": 27,
   "metadata": {},
   "outputs": [
    {
     "data": {
      "text/plain": [
       "0     True\n",
       "1    False\n",
       "2     True\n",
       "3    False\n",
       "dtype: bool"
      ]
     },
     "execution_count": 27,
     "metadata": {},
     "output_type": "execute_result"
    }
   ],
   "source": [
    "string_data.isnull()"
   ]
  },
  {
   "cell_type": "code",
   "execution_count": 8,
   "metadata": {},
   "outputs": [],
   "source": [
    "string_data[0] = None"
   ]
  },
  {
   "cell_type": "code",
   "execution_count": 9,
   "metadata": {},
   "outputs": [
    {
     "data": {
      "text/plain": [
       "0     True\n",
       "1    False\n",
       "2     True\n",
       "3    False\n",
       "dtype: bool"
      ]
     },
     "execution_count": 9,
     "metadata": {},
     "output_type": "execute_result"
    }
   ],
   "source": [
    "string_data.isnull()"
   ]
  },
  {
   "cell_type": "code",
   "execution_count": 10,
   "metadata": {},
   "outputs": [],
   "source": [
    "from numpy import nan as NA"
   ]
  },
  {
   "cell_type": "code",
   "execution_count": 11,
   "metadata": {},
   "outputs": [],
   "source": [
    "data = pd.Series([1, NA, 3.5, NA, 7])"
   ]
  },
  {
   "cell_type": "code",
   "execution_count": 12,
   "metadata": {},
   "outputs": [
    {
     "data": {
      "text/plain": [
       "0    1.0\n",
       "2    3.5\n",
       "4    7.0\n",
       "dtype: float64"
      ]
     },
     "execution_count": 12,
     "metadata": {},
     "output_type": "execute_result"
    }
   ],
   "source": [
    "data.dropna()"
   ]
  },
  {
   "cell_type": "code",
   "execution_count": 13,
   "metadata": {},
   "outputs": [
    {
     "data": {
      "text/plain": [
       "0    1.0\n",
       "2    3.5\n",
       "4    7.0\n",
       "dtype: float64"
      ]
     },
     "execution_count": 13,
     "metadata": {},
     "output_type": "execute_result"
    }
   ],
   "source": [
    "data[data.notnull()]"
   ]
  },
  {
   "cell_type": "code",
   "execution_count": 20,
   "metadata": {},
   "outputs": [],
   "source": [
    "data = pd.DataFrame([[1.,6.5,3.],[1.,NA, NA], [NA, NA, NA], [NA,6.5,3.]])"
   ]
  },
  {
   "cell_type": "code",
   "execution_count": 21,
   "metadata": {},
   "outputs": [
    {
     "data": {
      "text/html": [
       "<div>\n",
       "<style scoped>\n",
       "    .dataframe tbody tr th:only-of-type {\n",
       "        vertical-align: middle;\n",
       "    }\n",
       "\n",
       "    .dataframe tbody tr th {\n",
       "        vertical-align: top;\n",
       "    }\n",
       "\n",
       "    .dataframe thead th {\n",
       "        text-align: right;\n",
       "    }\n",
       "</style>\n",
       "<table border=\"1\" class=\"dataframe\">\n",
       "  <thead>\n",
       "    <tr style=\"text-align: right;\">\n",
       "      <th></th>\n",
       "      <th>0</th>\n",
       "      <th>1</th>\n",
       "      <th>2</th>\n",
       "    </tr>\n",
       "  </thead>\n",
       "  <tbody>\n",
       "    <tr>\n",
       "      <th>0</th>\n",
       "      <td>1.0</td>\n",
       "      <td>6.5</td>\n",
       "      <td>3.0</td>\n",
       "    </tr>\n",
       "    <tr>\n",
       "      <th>1</th>\n",
       "      <td>1.0</td>\n",
       "      <td>NaN</td>\n",
       "      <td>NaN</td>\n",
       "    </tr>\n",
       "    <tr>\n",
       "      <th>2</th>\n",
       "      <td>NaN</td>\n",
       "      <td>NaN</td>\n",
       "      <td>NaN</td>\n",
       "    </tr>\n",
       "    <tr>\n",
       "      <th>3</th>\n",
       "      <td>NaN</td>\n",
       "      <td>6.5</td>\n",
       "      <td>3.0</td>\n",
       "    </tr>\n",
       "  </tbody>\n",
       "</table>\n",
       "</div>"
      ],
      "text/plain": [
       "     0    1    2\n",
       "0  1.0  6.5  3.0\n",
       "1  1.0  NaN  NaN\n",
       "2  NaN  NaN  NaN\n",
       "3  NaN  6.5  3.0"
      ]
     },
     "execution_count": 21,
     "metadata": {},
     "output_type": "execute_result"
    }
   ],
   "source": [
    "data"
   ]
  },
  {
   "cell_type": "code",
   "execution_count": 24,
   "metadata": {},
   "outputs": [],
   "source": [
    "cleaned = data.dropna()"
   ]
  },
  {
   "cell_type": "code",
   "execution_count": 25,
   "metadata": {},
   "outputs": [
    {
     "data": {
      "text/html": [
       "<div>\n",
       "<style scoped>\n",
       "    .dataframe tbody tr th:only-of-type {\n",
       "        vertical-align: middle;\n",
       "    }\n",
       "\n",
       "    .dataframe tbody tr th {\n",
       "        vertical-align: top;\n",
       "    }\n",
       "\n",
       "    .dataframe thead th {\n",
       "        text-align: right;\n",
       "    }\n",
       "</style>\n",
       "<table border=\"1\" class=\"dataframe\">\n",
       "  <thead>\n",
       "    <tr style=\"text-align: right;\">\n",
       "      <th></th>\n",
       "      <th>0</th>\n",
       "      <th>1</th>\n",
       "      <th>2</th>\n",
       "    </tr>\n",
       "  </thead>\n",
       "  <tbody>\n",
       "    <tr>\n",
       "      <th>0</th>\n",
       "      <td>1.0</td>\n",
       "      <td>6.5</td>\n",
       "      <td>3.0</td>\n",
       "    </tr>\n",
       "  </tbody>\n",
       "</table>\n",
       "</div>"
      ],
      "text/plain": [
       "     0    1    2\n",
       "0  1.0  6.5  3.0"
      ]
     },
     "execution_count": 25,
     "metadata": {},
     "output_type": "execute_result"
    }
   ],
   "source": [
    "cleaned"
   ]
  },
  {
   "cell_type": "code",
   "execution_count": 28,
   "metadata": {},
   "outputs": [
    {
     "data": {
      "text/html": [
       "<div>\n",
       "<style scoped>\n",
       "    .dataframe tbody tr th:only-of-type {\n",
       "        vertical-align: middle;\n",
       "    }\n",
       "\n",
       "    .dataframe tbody tr th {\n",
       "        vertical-align: top;\n",
       "    }\n",
       "\n",
       "    .dataframe thead th {\n",
       "        text-align: right;\n",
       "    }\n",
       "</style>\n",
       "<table border=\"1\" class=\"dataframe\">\n",
       "  <thead>\n",
       "    <tr style=\"text-align: right;\">\n",
       "      <th></th>\n",
       "      <th>0</th>\n",
       "      <th>1</th>\n",
       "      <th>2</th>\n",
       "    </tr>\n",
       "  </thead>\n",
       "  <tbody>\n",
       "    <tr>\n",
       "      <th>0</th>\n",
       "      <td>1.0</td>\n",
       "      <td>6.5</td>\n",
       "      <td>3.0</td>\n",
       "    </tr>\n",
       "    <tr>\n",
       "      <th>1</th>\n",
       "      <td>1.0</td>\n",
       "      <td>NaN</td>\n",
       "      <td>NaN</td>\n",
       "    </tr>\n",
       "    <tr>\n",
       "      <th>3</th>\n",
       "      <td>NaN</td>\n",
       "      <td>6.5</td>\n",
       "      <td>3.0</td>\n",
       "    </tr>\n",
       "  </tbody>\n",
       "</table>\n",
       "</div>"
      ],
      "text/plain": [
       "     0    1    2\n",
       "0  1.0  6.5  3.0\n",
       "1  1.0  NaN  NaN\n",
       "3  NaN  6.5  3.0"
      ]
     },
     "execution_count": 28,
     "metadata": {},
     "output_type": "execute_result"
    }
   ],
   "source": [
    "data.dropna(how='all')"
   ]
  },
  {
   "cell_type": "code",
   "execution_count": 30,
   "metadata": {},
   "outputs": [],
   "source": [
    "data[4] = NA"
   ]
  },
  {
   "cell_type": "code",
   "execution_count": 31,
   "metadata": {},
   "outputs": [
    {
     "data": {
      "text/html": [
       "<div>\n",
       "<style scoped>\n",
       "    .dataframe tbody tr th:only-of-type {\n",
       "        vertical-align: middle;\n",
       "    }\n",
       "\n",
       "    .dataframe tbody tr th {\n",
       "        vertical-align: top;\n",
       "    }\n",
       "\n",
       "    .dataframe thead th {\n",
       "        text-align: right;\n",
       "    }\n",
       "</style>\n",
       "<table border=\"1\" class=\"dataframe\">\n",
       "  <thead>\n",
       "    <tr style=\"text-align: right;\">\n",
       "      <th></th>\n",
       "      <th>0</th>\n",
       "      <th>1</th>\n",
       "      <th>2</th>\n",
       "      <th>4</th>\n",
       "    </tr>\n",
       "  </thead>\n",
       "  <tbody>\n",
       "    <tr>\n",
       "      <th>0</th>\n",
       "      <td>1.0</td>\n",
       "      <td>6.5</td>\n",
       "      <td>3.0</td>\n",
       "      <td>NaN</td>\n",
       "    </tr>\n",
       "    <tr>\n",
       "      <th>1</th>\n",
       "      <td>1.0</td>\n",
       "      <td>NaN</td>\n",
       "      <td>NaN</td>\n",
       "      <td>NaN</td>\n",
       "    </tr>\n",
       "    <tr>\n",
       "      <th>2</th>\n",
       "      <td>NaN</td>\n",
       "      <td>NaN</td>\n",
       "      <td>NaN</td>\n",
       "      <td>NaN</td>\n",
       "    </tr>\n",
       "    <tr>\n",
       "      <th>3</th>\n",
       "      <td>NaN</td>\n",
       "      <td>6.5</td>\n",
       "      <td>3.0</td>\n",
       "      <td>NaN</td>\n",
       "    </tr>\n",
       "  </tbody>\n",
       "</table>\n",
       "</div>"
      ],
      "text/plain": [
       "     0    1    2   4\n",
       "0  1.0  6.5  3.0 NaN\n",
       "1  1.0  NaN  NaN NaN\n",
       "2  NaN  NaN  NaN NaN\n",
       "3  NaN  6.5  3.0 NaN"
      ]
     },
     "execution_count": 31,
     "metadata": {},
     "output_type": "execute_result"
    }
   ],
   "source": [
    "data"
   ]
  },
  {
   "cell_type": "code",
   "execution_count": 32,
   "metadata": {},
   "outputs": [
    {
     "data": {
      "text/html": [
       "<div>\n",
       "<style scoped>\n",
       "    .dataframe tbody tr th:only-of-type {\n",
       "        vertical-align: middle;\n",
       "    }\n",
       "\n",
       "    .dataframe tbody tr th {\n",
       "        vertical-align: top;\n",
       "    }\n",
       "\n",
       "    .dataframe thead th {\n",
       "        text-align: right;\n",
       "    }\n",
       "</style>\n",
       "<table border=\"1\" class=\"dataframe\">\n",
       "  <thead>\n",
       "    <tr style=\"text-align: right;\">\n",
       "      <th></th>\n",
       "      <th>0</th>\n",
       "      <th>1</th>\n",
       "      <th>2</th>\n",
       "    </tr>\n",
       "  </thead>\n",
       "  <tbody>\n",
       "    <tr>\n",
       "      <th>0</th>\n",
       "      <td>1.0</td>\n",
       "      <td>6.5</td>\n",
       "      <td>3.0</td>\n",
       "    </tr>\n",
       "    <tr>\n",
       "      <th>1</th>\n",
       "      <td>1.0</td>\n",
       "      <td>NaN</td>\n",
       "      <td>NaN</td>\n",
       "    </tr>\n",
       "    <tr>\n",
       "      <th>2</th>\n",
       "      <td>NaN</td>\n",
       "      <td>NaN</td>\n",
       "      <td>NaN</td>\n",
       "    </tr>\n",
       "    <tr>\n",
       "      <th>3</th>\n",
       "      <td>NaN</td>\n",
       "      <td>6.5</td>\n",
       "      <td>3.0</td>\n",
       "    </tr>\n",
       "  </tbody>\n",
       "</table>\n",
       "</div>"
      ],
      "text/plain": [
       "     0    1    2\n",
       "0  1.0  6.5  3.0\n",
       "1  1.0  NaN  NaN\n",
       "2  NaN  NaN  NaN\n",
       "3  NaN  6.5  3.0"
      ]
     },
     "execution_count": 32,
     "metadata": {},
     "output_type": "execute_result"
    }
   ],
   "source": [
    "data.dropna(axis=1, how = 'all')"
   ]
  },
  {
   "cell_type": "code",
   "execution_count": 45,
   "metadata": {},
   "outputs": [],
   "source": [
    "df = pd.DataFrame(np.random.randn(7,3,))"
   ]
  },
  {
   "cell_type": "code",
   "execution_count": 46,
   "metadata": {},
   "outputs": [
    {
     "data": {
      "text/html": [
       "<div>\n",
       "<style scoped>\n",
       "    .dataframe tbody tr th:only-of-type {\n",
       "        vertical-align: middle;\n",
       "    }\n",
       "\n",
       "    .dataframe tbody tr th {\n",
       "        vertical-align: top;\n",
       "    }\n",
       "\n",
       "    .dataframe thead th {\n",
       "        text-align: right;\n",
       "    }\n",
       "</style>\n",
       "<table border=\"1\" class=\"dataframe\">\n",
       "  <thead>\n",
       "    <tr style=\"text-align: right;\">\n",
       "      <th></th>\n",
       "      <th>0</th>\n",
       "      <th>1</th>\n",
       "      <th>2</th>\n",
       "    </tr>\n",
       "  </thead>\n",
       "  <tbody>\n",
       "    <tr>\n",
       "      <th>0</th>\n",
       "      <td>0.468937</td>\n",
       "      <td>-0.732796</td>\n",
       "      <td>-1.316013</td>\n",
       "    </tr>\n",
       "    <tr>\n",
       "      <th>1</th>\n",
       "      <td>1.061713</td>\n",
       "      <td>0.178893</td>\n",
       "      <td>-0.725356</td>\n",
       "    </tr>\n",
       "    <tr>\n",
       "      <th>2</th>\n",
       "      <td>-1.087665</td>\n",
       "      <td>-0.287119</td>\n",
       "      <td>-0.187055</td>\n",
       "    </tr>\n",
       "    <tr>\n",
       "      <th>3</th>\n",
       "      <td>-0.895124</td>\n",
       "      <td>-0.965470</td>\n",
       "      <td>-0.152023</td>\n",
       "    </tr>\n",
       "    <tr>\n",
       "      <th>4</th>\n",
       "      <td>-0.276552</td>\n",
       "      <td>0.344024</td>\n",
       "      <td>1.283176</td>\n",
       "    </tr>\n",
       "    <tr>\n",
       "      <th>5</th>\n",
       "      <td>-1.555676</td>\n",
       "      <td>-0.734715</td>\n",
       "      <td>-1.481246</td>\n",
       "    </tr>\n",
       "    <tr>\n",
       "      <th>6</th>\n",
       "      <td>2.139317</td>\n",
       "      <td>1.180464</td>\n",
       "      <td>-1.198571</td>\n",
       "    </tr>\n",
       "  </tbody>\n",
       "</table>\n",
       "</div>"
      ],
      "text/plain": [
       "          0         1         2\n",
       "0  0.468937 -0.732796 -1.316013\n",
       "1  1.061713  0.178893 -0.725356\n",
       "2 -1.087665 -0.287119 -0.187055\n",
       "3 -0.895124 -0.965470 -0.152023\n",
       "4 -0.276552  0.344024  1.283176\n",
       "5 -1.555676 -0.734715 -1.481246\n",
       "6  2.139317  1.180464 -1.198571"
      ]
     },
     "execution_count": 46,
     "metadata": {},
     "output_type": "execute_result"
    }
   ],
   "source": [
    "df"
   ]
  },
  {
   "cell_type": "code",
   "execution_count": 47,
   "metadata": {},
   "outputs": [],
   "source": [
    "df.iloc[:4,1] = NA"
   ]
  },
  {
   "cell_type": "code",
   "execution_count": 48,
   "metadata": {},
   "outputs": [
    {
     "data": {
      "text/html": [
       "<div>\n",
       "<style scoped>\n",
       "    .dataframe tbody tr th:only-of-type {\n",
       "        vertical-align: middle;\n",
       "    }\n",
       "\n",
       "    .dataframe tbody tr th {\n",
       "        vertical-align: top;\n",
       "    }\n",
       "\n",
       "    .dataframe thead th {\n",
       "        text-align: right;\n",
       "    }\n",
       "</style>\n",
       "<table border=\"1\" class=\"dataframe\">\n",
       "  <thead>\n",
       "    <tr style=\"text-align: right;\">\n",
       "      <th></th>\n",
       "      <th>0</th>\n",
       "      <th>1</th>\n",
       "      <th>2</th>\n",
       "    </tr>\n",
       "  </thead>\n",
       "  <tbody>\n",
       "    <tr>\n",
       "      <th>0</th>\n",
       "      <td>0.468937</td>\n",
       "      <td>NaN</td>\n",
       "      <td>-1.316013</td>\n",
       "    </tr>\n",
       "    <tr>\n",
       "      <th>1</th>\n",
       "      <td>1.061713</td>\n",
       "      <td>NaN</td>\n",
       "      <td>-0.725356</td>\n",
       "    </tr>\n",
       "    <tr>\n",
       "      <th>2</th>\n",
       "      <td>-1.087665</td>\n",
       "      <td>NaN</td>\n",
       "      <td>-0.187055</td>\n",
       "    </tr>\n",
       "    <tr>\n",
       "      <th>3</th>\n",
       "      <td>-0.895124</td>\n",
       "      <td>NaN</td>\n",
       "      <td>-0.152023</td>\n",
       "    </tr>\n",
       "    <tr>\n",
       "      <th>4</th>\n",
       "      <td>-0.276552</td>\n",
       "      <td>0.344024</td>\n",
       "      <td>1.283176</td>\n",
       "    </tr>\n",
       "    <tr>\n",
       "      <th>5</th>\n",
       "      <td>-1.555676</td>\n",
       "      <td>-0.734715</td>\n",
       "      <td>-1.481246</td>\n",
       "    </tr>\n",
       "    <tr>\n",
       "      <th>6</th>\n",
       "      <td>2.139317</td>\n",
       "      <td>1.180464</td>\n",
       "      <td>-1.198571</td>\n",
       "    </tr>\n",
       "  </tbody>\n",
       "</table>\n",
       "</div>"
      ],
      "text/plain": [
       "          0         1         2\n",
       "0  0.468937       NaN -1.316013\n",
       "1  1.061713       NaN -0.725356\n",
       "2 -1.087665       NaN -0.187055\n",
       "3 -0.895124       NaN -0.152023\n",
       "4 -0.276552  0.344024  1.283176\n",
       "5 -1.555676 -0.734715 -1.481246\n",
       "6  2.139317  1.180464 -1.198571"
      ]
     },
     "execution_count": 48,
     "metadata": {},
     "output_type": "execute_result"
    }
   ],
   "source": [
    "df"
   ]
  },
  {
   "cell_type": "code",
   "execution_count": 49,
   "metadata": {},
   "outputs": [],
   "source": [
    "df.iloc[:2, 2] = NA"
   ]
  },
  {
   "cell_type": "code",
   "execution_count": 50,
   "metadata": {},
   "outputs": [
    {
     "data": {
      "text/html": [
       "<div>\n",
       "<style scoped>\n",
       "    .dataframe tbody tr th:only-of-type {\n",
       "        vertical-align: middle;\n",
       "    }\n",
       "\n",
       "    .dataframe tbody tr th {\n",
       "        vertical-align: top;\n",
       "    }\n",
       "\n",
       "    .dataframe thead th {\n",
       "        text-align: right;\n",
       "    }\n",
       "</style>\n",
       "<table border=\"1\" class=\"dataframe\">\n",
       "  <thead>\n",
       "    <tr style=\"text-align: right;\">\n",
       "      <th></th>\n",
       "      <th>0</th>\n",
       "      <th>1</th>\n",
       "      <th>2</th>\n",
       "    </tr>\n",
       "  </thead>\n",
       "  <tbody>\n",
       "    <tr>\n",
       "      <th>0</th>\n",
       "      <td>0.468937</td>\n",
       "      <td>NaN</td>\n",
       "      <td>NaN</td>\n",
       "    </tr>\n",
       "    <tr>\n",
       "      <th>1</th>\n",
       "      <td>1.061713</td>\n",
       "      <td>NaN</td>\n",
       "      <td>NaN</td>\n",
       "    </tr>\n",
       "    <tr>\n",
       "      <th>2</th>\n",
       "      <td>-1.087665</td>\n",
       "      <td>NaN</td>\n",
       "      <td>-0.187055</td>\n",
       "    </tr>\n",
       "    <tr>\n",
       "      <th>3</th>\n",
       "      <td>-0.895124</td>\n",
       "      <td>NaN</td>\n",
       "      <td>-0.152023</td>\n",
       "    </tr>\n",
       "    <tr>\n",
       "      <th>4</th>\n",
       "      <td>-0.276552</td>\n",
       "      <td>0.344024</td>\n",
       "      <td>1.283176</td>\n",
       "    </tr>\n",
       "    <tr>\n",
       "      <th>5</th>\n",
       "      <td>-1.555676</td>\n",
       "      <td>-0.734715</td>\n",
       "      <td>-1.481246</td>\n",
       "    </tr>\n",
       "    <tr>\n",
       "      <th>6</th>\n",
       "      <td>2.139317</td>\n",
       "      <td>1.180464</td>\n",
       "      <td>-1.198571</td>\n",
       "    </tr>\n",
       "  </tbody>\n",
       "</table>\n",
       "</div>"
      ],
      "text/plain": [
       "          0         1         2\n",
       "0  0.468937       NaN       NaN\n",
       "1  1.061713       NaN       NaN\n",
       "2 -1.087665       NaN -0.187055\n",
       "3 -0.895124       NaN -0.152023\n",
       "4 -0.276552  0.344024  1.283176\n",
       "5 -1.555676 -0.734715 -1.481246\n",
       "6  2.139317  1.180464 -1.198571"
      ]
     },
     "execution_count": 50,
     "metadata": {},
     "output_type": "execute_result"
    }
   ],
   "source": [
    "df"
   ]
  },
  {
   "cell_type": "code",
   "execution_count": 51,
   "metadata": {},
   "outputs": [
    {
     "data": {
      "text/html": [
       "<div>\n",
       "<style scoped>\n",
       "    .dataframe tbody tr th:only-of-type {\n",
       "        vertical-align: middle;\n",
       "    }\n",
       "\n",
       "    .dataframe tbody tr th {\n",
       "        vertical-align: top;\n",
       "    }\n",
       "\n",
       "    .dataframe thead th {\n",
       "        text-align: right;\n",
       "    }\n",
       "</style>\n",
       "<table border=\"1\" class=\"dataframe\">\n",
       "  <thead>\n",
       "    <tr style=\"text-align: right;\">\n",
       "      <th></th>\n",
       "      <th>0</th>\n",
       "      <th>1</th>\n",
       "      <th>2</th>\n",
       "    </tr>\n",
       "  </thead>\n",
       "  <tbody>\n",
       "    <tr>\n",
       "      <th>4</th>\n",
       "      <td>-0.276552</td>\n",
       "      <td>0.344024</td>\n",
       "      <td>1.283176</td>\n",
       "    </tr>\n",
       "    <tr>\n",
       "      <th>5</th>\n",
       "      <td>-1.555676</td>\n",
       "      <td>-0.734715</td>\n",
       "      <td>-1.481246</td>\n",
       "    </tr>\n",
       "    <tr>\n",
       "      <th>6</th>\n",
       "      <td>2.139317</td>\n",
       "      <td>1.180464</td>\n",
       "      <td>-1.198571</td>\n",
       "    </tr>\n",
       "  </tbody>\n",
       "</table>\n",
       "</div>"
      ],
      "text/plain": [
       "          0         1         2\n",
       "4 -0.276552  0.344024  1.283176\n",
       "5 -1.555676 -0.734715 -1.481246\n",
       "6  2.139317  1.180464 -1.198571"
      ]
     },
     "execution_count": 51,
     "metadata": {},
     "output_type": "execute_result"
    }
   ],
   "source": [
    "df.dropna()"
   ]
  },
  {
   "cell_type": "code",
   "execution_count": 52,
   "metadata": {},
   "outputs": [
    {
     "data": {
      "text/html": [
       "<div>\n",
       "<style scoped>\n",
       "    .dataframe tbody tr th:only-of-type {\n",
       "        vertical-align: middle;\n",
       "    }\n",
       "\n",
       "    .dataframe tbody tr th {\n",
       "        vertical-align: top;\n",
       "    }\n",
       "\n",
       "    .dataframe thead th {\n",
       "        text-align: right;\n",
       "    }\n",
       "</style>\n",
       "<table border=\"1\" class=\"dataframe\">\n",
       "  <thead>\n",
       "    <tr style=\"text-align: right;\">\n",
       "      <th></th>\n",
       "      <th>0</th>\n",
       "      <th>1</th>\n",
       "      <th>2</th>\n",
       "    </tr>\n",
       "  </thead>\n",
       "  <tbody>\n",
       "    <tr>\n",
       "      <th>2</th>\n",
       "      <td>-1.087665</td>\n",
       "      <td>NaN</td>\n",
       "      <td>-0.187055</td>\n",
       "    </tr>\n",
       "    <tr>\n",
       "      <th>3</th>\n",
       "      <td>-0.895124</td>\n",
       "      <td>NaN</td>\n",
       "      <td>-0.152023</td>\n",
       "    </tr>\n",
       "    <tr>\n",
       "      <th>4</th>\n",
       "      <td>-0.276552</td>\n",
       "      <td>0.344024</td>\n",
       "      <td>1.283176</td>\n",
       "    </tr>\n",
       "    <tr>\n",
       "      <th>5</th>\n",
       "      <td>-1.555676</td>\n",
       "      <td>-0.734715</td>\n",
       "      <td>-1.481246</td>\n",
       "    </tr>\n",
       "    <tr>\n",
       "      <th>6</th>\n",
       "      <td>2.139317</td>\n",
       "      <td>1.180464</td>\n",
       "      <td>-1.198571</td>\n",
       "    </tr>\n",
       "  </tbody>\n",
       "</table>\n",
       "</div>"
      ],
      "text/plain": [
       "          0         1         2\n",
       "2 -1.087665       NaN -0.187055\n",
       "3 -0.895124       NaN -0.152023\n",
       "4 -0.276552  0.344024  1.283176\n",
       "5 -1.555676 -0.734715 -1.481246\n",
       "6  2.139317  1.180464 -1.198571"
      ]
     },
     "execution_count": 52,
     "metadata": {},
     "output_type": "execute_result"
    }
   ],
   "source": [
    "df.dropna(thresh=2) ####drop rows 2 or more NA"
   ]
  },
  {
   "cell_type": "code",
   "execution_count": 58,
   "metadata": {},
   "outputs": [
    {
     "data": {
      "text/html": [
       "<div>\n",
       "<style scoped>\n",
       "    .dataframe tbody tr th:only-of-type {\n",
       "        vertical-align: middle;\n",
       "    }\n",
       "\n",
       "    .dataframe tbody tr th {\n",
       "        vertical-align: top;\n",
       "    }\n",
       "\n",
       "    .dataframe thead th {\n",
       "        text-align: right;\n",
       "    }\n",
       "</style>\n",
       "<table border=\"1\" class=\"dataframe\">\n",
       "  <thead>\n",
       "    <tr style=\"text-align: right;\">\n",
       "      <th></th>\n",
       "      <th>0</th>\n",
       "      <th>1</th>\n",
       "      <th>2</th>\n",
       "    </tr>\n",
       "  </thead>\n",
       "  <tbody>\n",
       "    <tr>\n",
       "      <th>0</th>\n",
       "      <td>0.468937</td>\n",
       "      <td>0.000000</td>\n",
       "      <td>0.000000</td>\n",
       "    </tr>\n",
       "    <tr>\n",
       "      <th>1</th>\n",
       "      <td>1.061713</td>\n",
       "      <td>0.000000</td>\n",
       "      <td>0.000000</td>\n",
       "    </tr>\n",
       "    <tr>\n",
       "      <th>2</th>\n",
       "      <td>-1.087665</td>\n",
       "      <td>0.000000</td>\n",
       "      <td>-0.187055</td>\n",
       "    </tr>\n",
       "    <tr>\n",
       "      <th>3</th>\n",
       "      <td>-0.895124</td>\n",
       "      <td>0.000000</td>\n",
       "      <td>-0.152023</td>\n",
       "    </tr>\n",
       "    <tr>\n",
       "      <th>4</th>\n",
       "      <td>-0.276552</td>\n",
       "      <td>0.344024</td>\n",
       "      <td>1.283176</td>\n",
       "    </tr>\n",
       "    <tr>\n",
       "      <th>5</th>\n",
       "      <td>-1.555676</td>\n",
       "      <td>-0.734715</td>\n",
       "      <td>-1.481246</td>\n",
       "    </tr>\n",
       "    <tr>\n",
       "      <th>6</th>\n",
       "      <td>2.139317</td>\n",
       "      <td>1.180464</td>\n",
       "      <td>-1.198571</td>\n",
       "    </tr>\n",
       "  </tbody>\n",
       "</table>\n",
       "</div>"
      ],
      "text/plain": [
       "          0         1         2\n",
       "0  0.468937  0.000000  0.000000\n",
       "1  1.061713  0.000000  0.000000\n",
       "2 -1.087665  0.000000 -0.187055\n",
       "3 -0.895124  0.000000 -0.152023\n",
       "4 -0.276552  0.344024  1.283176\n",
       "5 -1.555676 -0.734715 -1.481246\n",
       "6  2.139317  1.180464 -1.198571"
      ]
     },
     "execution_count": 58,
     "metadata": {},
     "output_type": "execute_result"
    }
   ],
   "source": [
    "df.fillna(0)"
   ]
  },
  {
   "cell_type": "code",
   "execution_count": 60,
   "metadata": {},
   "outputs": [
    {
     "data": {
      "text/html": [
       "<div>\n",
       "<style scoped>\n",
       "    .dataframe tbody tr th:only-of-type {\n",
       "        vertical-align: middle;\n",
       "    }\n",
       "\n",
       "    .dataframe tbody tr th {\n",
       "        vertical-align: top;\n",
       "    }\n",
       "\n",
       "    .dataframe thead th {\n",
       "        text-align: right;\n",
       "    }\n",
       "</style>\n",
       "<table border=\"1\" class=\"dataframe\">\n",
       "  <thead>\n",
       "    <tr style=\"text-align: right;\">\n",
       "      <th></th>\n",
       "      <th>0</th>\n",
       "      <th>1</th>\n",
       "      <th>2</th>\n",
       "    </tr>\n",
       "  </thead>\n",
       "  <tbody>\n",
       "    <tr>\n",
       "      <th>0</th>\n",
       "      <td>0.468937</td>\n",
       "      <td>0.500000</td>\n",
       "      <td>0.000000</td>\n",
       "    </tr>\n",
       "    <tr>\n",
       "      <th>1</th>\n",
       "      <td>1.061713</td>\n",
       "      <td>0.500000</td>\n",
       "      <td>0.000000</td>\n",
       "    </tr>\n",
       "    <tr>\n",
       "      <th>2</th>\n",
       "      <td>-1.087665</td>\n",
       "      <td>0.500000</td>\n",
       "      <td>-0.187055</td>\n",
       "    </tr>\n",
       "    <tr>\n",
       "      <th>3</th>\n",
       "      <td>-0.895124</td>\n",
       "      <td>0.500000</td>\n",
       "      <td>-0.152023</td>\n",
       "    </tr>\n",
       "    <tr>\n",
       "      <th>4</th>\n",
       "      <td>-0.276552</td>\n",
       "      <td>0.344024</td>\n",
       "      <td>1.283176</td>\n",
       "    </tr>\n",
       "    <tr>\n",
       "      <th>5</th>\n",
       "      <td>-1.555676</td>\n",
       "      <td>-0.734715</td>\n",
       "      <td>-1.481246</td>\n",
       "    </tr>\n",
       "    <tr>\n",
       "      <th>6</th>\n",
       "      <td>2.139317</td>\n",
       "      <td>1.180464</td>\n",
       "      <td>-1.198571</td>\n",
       "    </tr>\n",
       "  </tbody>\n",
       "</table>\n",
       "</div>"
      ],
      "text/plain": [
       "          0         1         2\n",
       "0  0.468937  0.500000  0.000000\n",
       "1  1.061713  0.500000  0.000000\n",
       "2 -1.087665  0.500000 -0.187055\n",
       "3 -0.895124  0.500000 -0.152023\n",
       "4 -0.276552  0.344024  1.283176\n",
       "5 -1.555676 -0.734715 -1.481246\n",
       "6  2.139317  1.180464 -1.198571"
      ]
     },
     "execution_count": 60,
     "metadata": {},
     "output_type": "execute_result"
    }
   ],
   "source": [
    "df.fillna({1:0.5, 2:0}) ###fillna can fill specific nmber, funny"
   ]
  },
  {
   "cell_type": "code",
   "execution_count": 61,
   "metadata": {},
   "outputs": [],
   "source": [
    "df = pd.DataFrame(np.random.randn(6,3))"
   ]
  },
  {
   "cell_type": "code",
   "execution_count": 62,
   "metadata": {},
   "outputs": [],
   "source": [
    "df.iloc[2:, 1] = NA"
   ]
  },
  {
   "cell_type": "code",
   "execution_count": 63,
   "metadata": {},
   "outputs": [],
   "source": [
    "df.iloc[4:, 2] = NA"
   ]
  },
  {
   "cell_type": "code",
   "execution_count": 64,
   "metadata": {},
   "outputs": [
    {
     "data": {
      "text/html": [
       "<div>\n",
       "<style scoped>\n",
       "    .dataframe tbody tr th:only-of-type {\n",
       "        vertical-align: middle;\n",
       "    }\n",
       "\n",
       "    .dataframe tbody tr th {\n",
       "        vertical-align: top;\n",
       "    }\n",
       "\n",
       "    .dataframe thead th {\n",
       "        text-align: right;\n",
       "    }\n",
       "</style>\n",
       "<table border=\"1\" class=\"dataframe\">\n",
       "  <thead>\n",
       "    <tr style=\"text-align: right;\">\n",
       "      <th></th>\n",
       "      <th>0</th>\n",
       "      <th>1</th>\n",
       "      <th>2</th>\n",
       "    </tr>\n",
       "  </thead>\n",
       "  <tbody>\n",
       "    <tr>\n",
       "      <th>0</th>\n",
       "      <td>-0.185135</td>\n",
       "      <td>0.729027</td>\n",
       "      <td>-0.604391</td>\n",
       "    </tr>\n",
       "    <tr>\n",
       "      <th>1</th>\n",
       "      <td>-1.600161</td>\n",
       "      <td>-0.284622</td>\n",
       "      <td>-0.000896</td>\n",
       "    </tr>\n",
       "    <tr>\n",
       "      <th>2</th>\n",
       "      <td>-0.694761</td>\n",
       "      <td>NaN</td>\n",
       "      <td>0.164533</td>\n",
       "    </tr>\n",
       "    <tr>\n",
       "      <th>3</th>\n",
       "      <td>2.044535</td>\n",
       "      <td>NaN</td>\n",
       "      <td>-0.972619</td>\n",
       "    </tr>\n",
       "    <tr>\n",
       "      <th>4</th>\n",
       "      <td>-2.082389</td>\n",
       "      <td>NaN</td>\n",
       "      <td>NaN</td>\n",
       "    </tr>\n",
       "    <tr>\n",
       "      <th>5</th>\n",
       "      <td>-1.098314</td>\n",
       "      <td>NaN</td>\n",
       "      <td>NaN</td>\n",
       "    </tr>\n",
       "  </tbody>\n",
       "</table>\n",
       "</div>"
      ],
      "text/plain": [
       "          0         1         2\n",
       "0 -0.185135  0.729027 -0.604391\n",
       "1 -1.600161 -0.284622 -0.000896\n",
       "2 -0.694761       NaN  0.164533\n",
       "3  2.044535       NaN -0.972619\n",
       "4 -2.082389       NaN       NaN\n",
       "5 -1.098314       NaN       NaN"
      ]
     },
     "execution_count": 64,
     "metadata": {},
     "output_type": "execute_result"
    }
   ],
   "source": [
    "df"
   ]
  },
  {
   "cell_type": "code",
   "execution_count": 65,
   "metadata": {},
   "outputs": [
    {
     "data": {
      "text/html": [
       "<div>\n",
       "<style scoped>\n",
       "    .dataframe tbody tr th:only-of-type {\n",
       "        vertical-align: middle;\n",
       "    }\n",
       "\n",
       "    .dataframe tbody tr th {\n",
       "        vertical-align: top;\n",
       "    }\n",
       "\n",
       "    .dataframe thead th {\n",
       "        text-align: right;\n",
       "    }\n",
       "</style>\n",
       "<table border=\"1\" class=\"dataframe\">\n",
       "  <thead>\n",
       "    <tr style=\"text-align: right;\">\n",
       "      <th></th>\n",
       "      <th>0</th>\n",
       "      <th>1</th>\n",
       "      <th>2</th>\n",
       "    </tr>\n",
       "  </thead>\n",
       "  <tbody>\n",
       "    <tr>\n",
       "      <th>0</th>\n",
       "      <td>-0.185135</td>\n",
       "      <td>0.729027</td>\n",
       "      <td>-0.604391</td>\n",
       "    </tr>\n",
       "    <tr>\n",
       "      <th>1</th>\n",
       "      <td>-1.600161</td>\n",
       "      <td>-0.284622</td>\n",
       "      <td>-0.000896</td>\n",
       "    </tr>\n",
       "    <tr>\n",
       "      <th>2</th>\n",
       "      <td>-0.694761</td>\n",
       "      <td>-0.284622</td>\n",
       "      <td>0.164533</td>\n",
       "    </tr>\n",
       "    <tr>\n",
       "      <th>3</th>\n",
       "      <td>2.044535</td>\n",
       "      <td>-0.284622</td>\n",
       "      <td>-0.972619</td>\n",
       "    </tr>\n",
       "    <tr>\n",
       "      <th>4</th>\n",
       "      <td>-2.082389</td>\n",
       "      <td>-0.284622</td>\n",
       "      <td>-0.972619</td>\n",
       "    </tr>\n",
       "    <tr>\n",
       "      <th>5</th>\n",
       "      <td>-1.098314</td>\n",
       "      <td>-0.284622</td>\n",
       "      <td>-0.972619</td>\n",
       "    </tr>\n",
       "  </tbody>\n",
       "</table>\n",
       "</div>"
      ],
      "text/plain": [
       "          0         1         2\n",
       "0 -0.185135  0.729027 -0.604391\n",
       "1 -1.600161 -0.284622 -0.000896\n",
       "2 -0.694761 -0.284622  0.164533\n",
       "3  2.044535 -0.284622 -0.972619\n",
       "4 -2.082389 -0.284622 -0.972619\n",
       "5 -1.098314 -0.284622 -0.972619"
      ]
     },
     "execution_count": 65,
     "metadata": {},
     "output_type": "execute_result"
    }
   ],
   "source": [
    "df.fillna(method='ffill')"
   ]
  },
  {
   "cell_type": "code",
   "execution_count": 66,
   "metadata": {},
   "outputs": [
    {
     "data": {
      "text/html": [
       "<div>\n",
       "<style scoped>\n",
       "    .dataframe tbody tr th:only-of-type {\n",
       "        vertical-align: middle;\n",
       "    }\n",
       "\n",
       "    .dataframe tbody tr th {\n",
       "        vertical-align: top;\n",
       "    }\n",
       "\n",
       "    .dataframe thead th {\n",
       "        text-align: right;\n",
       "    }\n",
       "</style>\n",
       "<table border=\"1\" class=\"dataframe\">\n",
       "  <thead>\n",
       "    <tr style=\"text-align: right;\">\n",
       "      <th></th>\n",
       "      <th>0</th>\n",
       "      <th>1</th>\n",
       "      <th>2</th>\n",
       "    </tr>\n",
       "  </thead>\n",
       "  <tbody>\n",
       "    <tr>\n",
       "      <th>0</th>\n",
       "      <td>-0.185135</td>\n",
       "      <td>0.729027</td>\n",
       "      <td>-0.604391</td>\n",
       "    </tr>\n",
       "    <tr>\n",
       "      <th>1</th>\n",
       "      <td>-1.600161</td>\n",
       "      <td>-0.284622</td>\n",
       "      <td>-0.000896</td>\n",
       "    </tr>\n",
       "    <tr>\n",
       "      <th>2</th>\n",
       "      <td>-0.694761</td>\n",
       "      <td>-0.284622</td>\n",
       "      <td>0.164533</td>\n",
       "    </tr>\n",
       "    <tr>\n",
       "      <th>3</th>\n",
       "      <td>2.044535</td>\n",
       "      <td>-0.284622</td>\n",
       "      <td>-0.972619</td>\n",
       "    </tr>\n",
       "    <tr>\n",
       "      <th>4</th>\n",
       "      <td>-2.082389</td>\n",
       "      <td>NaN</td>\n",
       "      <td>-0.972619</td>\n",
       "    </tr>\n",
       "    <tr>\n",
       "      <th>5</th>\n",
       "      <td>-1.098314</td>\n",
       "      <td>NaN</td>\n",
       "      <td>-0.972619</td>\n",
       "    </tr>\n",
       "  </tbody>\n",
       "</table>\n",
       "</div>"
      ],
      "text/plain": [
       "          0         1         2\n",
       "0 -0.185135  0.729027 -0.604391\n",
       "1 -1.600161 -0.284622 -0.000896\n",
       "2 -0.694761 -0.284622  0.164533\n",
       "3  2.044535 -0.284622 -0.972619\n",
       "4 -2.082389       NaN -0.972619\n",
       "5 -1.098314       NaN -0.972619"
      ]
     },
     "execution_count": 66,
     "metadata": {},
     "output_type": "execute_result"
    }
   ],
   "source": [
    "df.fillna(method='ffill', limit=2) ###ffill = forward fill"
   ]
  },
  {
   "cell_type": "code",
   "execution_count": 67,
   "metadata": {},
   "outputs": [],
   "source": [
    "data = pd.Series([1., NA, 3.5, NA, 7])"
   ]
  },
  {
   "cell_type": "code",
   "execution_count": 68,
   "metadata": {},
   "outputs": [
    {
     "data": {
      "text/plain": [
       "0    1.000000\n",
       "1    3.833333\n",
       "2    3.500000\n",
       "3    3.833333\n",
       "4    7.000000\n",
       "dtype: float64"
      ]
     },
     "execution_count": 68,
     "metadata": {},
     "output_type": "execute_result"
    }
   ],
   "source": [
    "data.fillna(data.mean()) ###NA space contains average"
   ]
  },
  {
   "cell_type": "code",
   "execution_count": null,
   "metadata": {},
   "outputs": [],
   "source": []
  },
  {
   "cell_type": "code",
   "execution_count": 69,
   "metadata": {},
   "outputs": [],
   "source": [
    "#####7.2 Data Transformation"
   ]
  },
  {
   "cell_type": "code",
   "execution_count": 70,
   "metadata": {},
   "outputs": [],
   "source": [
    "data = pd.DataFrame({'k1': ['one', 'two'] *3+['two'], \n",
    "                    'k2':[1,1,2,3,3,4,4]})"
   ]
  },
  {
   "cell_type": "code",
   "execution_count": 71,
   "metadata": {},
   "outputs": [
    {
     "data": {
      "text/html": [
       "<div>\n",
       "<style scoped>\n",
       "    .dataframe tbody tr th:only-of-type {\n",
       "        vertical-align: middle;\n",
       "    }\n",
       "\n",
       "    .dataframe tbody tr th {\n",
       "        vertical-align: top;\n",
       "    }\n",
       "\n",
       "    .dataframe thead th {\n",
       "        text-align: right;\n",
       "    }\n",
       "</style>\n",
       "<table border=\"1\" class=\"dataframe\">\n",
       "  <thead>\n",
       "    <tr style=\"text-align: right;\">\n",
       "      <th></th>\n",
       "      <th>k1</th>\n",
       "      <th>k2</th>\n",
       "    </tr>\n",
       "  </thead>\n",
       "  <tbody>\n",
       "    <tr>\n",
       "      <th>0</th>\n",
       "      <td>one</td>\n",
       "      <td>1</td>\n",
       "    </tr>\n",
       "    <tr>\n",
       "      <th>1</th>\n",
       "      <td>two</td>\n",
       "      <td>1</td>\n",
       "    </tr>\n",
       "    <tr>\n",
       "      <th>2</th>\n",
       "      <td>one</td>\n",
       "      <td>2</td>\n",
       "    </tr>\n",
       "    <tr>\n",
       "      <th>3</th>\n",
       "      <td>two</td>\n",
       "      <td>3</td>\n",
       "    </tr>\n",
       "    <tr>\n",
       "      <th>4</th>\n",
       "      <td>one</td>\n",
       "      <td>3</td>\n",
       "    </tr>\n",
       "    <tr>\n",
       "      <th>5</th>\n",
       "      <td>two</td>\n",
       "      <td>4</td>\n",
       "    </tr>\n",
       "    <tr>\n",
       "      <th>6</th>\n",
       "      <td>two</td>\n",
       "      <td>4</td>\n",
       "    </tr>\n",
       "  </tbody>\n",
       "</table>\n",
       "</div>"
      ],
      "text/plain": [
       "    k1  k2\n",
       "0  one   1\n",
       "1  two   1\n",
       "2  one   2\n",
       "3  two   3\n",
       "4  one   3\n",
       "5  two   4\n",
       "6  two   4"
      ]
     },
     "execution_count": 71,
     "metadata": {},
     "output_type": "execute_result"
    }
   ],
   "source": [
    "data"
   ]
  },
  {
   "cell_type": "code",
   "execution_count": 72,
   "metadata": {},
   "outputs": [
    {
     "data": {
      "text/plain": [
       "0    False\n",
       "1    False\n",
       "2    False\n",
       "3    False\n",
       "4    False\n",
       "5    False\n",
       "6     True\n",
       "dtype: bool"
      ]
     },
     "execution_count": 72,
     "metadata": {},
     "output_type": "execute_result"
    }
   ],
   "source": [
    "data.duplicated()"
   ]
  },
  {
   "cell_type": "code",
   "execution_count": 73,
   "metadata": {},
   "outputs": [
    {
     "data": {
      "text/html": [
       "<div>\n",
       "<style scoped>\n",
       "    .dataframe tbody tr th:only-of-type {\n",
       "        vertical-align: middle;\n",
       "    }\n",
       "\n",
       "    .dataframe tbody tr th {\n",
       "        vertical-align: top;\n",
       "    }\n",
       "\n",
       "    .dataframe thead th {\n",
       "        text-align: right;\n",
       "    }\n",
       "</style>\n",
       "<table border=\"1\" class=\"dataframe\">\n",
       "  <thead>\n",
       "    <tr style=\"text-align: right;\">\n",
       "      <th></th>\n",
       "      <th>k1</th>\n",
       "      <th>k2</th>\n",
       "    </tr>\n",
       "  </thead>\n",
       "  <tbody>\n",
       "    <tr>\n",
       "      <th>0</th>\n",
       "      <td>one</td>\n",
       "      <td>1</td>\n",
       "    </tr>\n",
       "    <tr>\n",
       "      <th>1</th>\n",
       "      <td>two</td>\n",
       "      <td>1</td>\n",
       "    </tr>\n",
       "    <tr>\n",
       "      <th>2</th>\n",
       "      <td>one</td>\n",
       "      <td>2</td>\n",
       "    </tr>\n",
       "    <tr>\n",
       "      <th>3</th>\n",
       "      <td>two</td>\n",
       "      <td>3</td>\n",
       "    </tr>\n",
       "    <tr>\n",
       "      <th>4</th>\n",
       "      <td>one</td>\n",
       "      <td>3</td>\n",
       "    </tr>\n",
       "    <tr>\n",
       "      <th>5</th>\n",
       "      <td>two</td>\n",
       "      <td>4</td>\n",
       "    </tr>\n",
       "  </tbody>\n",
       "</table>\n",
       "</div>"
      ],
      "text/plain": [
       "    k1  k2\n",
       "0  one   1\n",
       "1  two   1\n",
       "2  one   2\n",
       "3  two   3\n",
       "4  one   3\n",
       "5  two   4"
      ]
     },
     "execution_count": 73,
     "metadata": {},
     "output_type": "execute_result"
    }
   ],
   "source": [
    "data.drop_duplicates()"
   ]
  },
  {
   "cell_type": "code",
   "execution_count": 74,
   "metadata": {},
   "outputs": [],
   "source": [
    "data['v1'] = range(7)"
   ]
  },
  {
   "cell_type": "code",
   "execution_count": 75,
   "metadata": {},
   "outputs": [
    {
     "data": {
      "text/html": [
       "<div>\n",
       "<style scoped>\n",
       "    .dataframe tbody tr th:only-of-type {\n",
       "        vertical-align: middle;\n",
       "    }\n",
       "\n",
       "    .dataframe tbody tr th {\n",
       "        vertical-align: top;\n",
       "    }\n",
       "\n",
       "    .dataframe thead th {\n",
       "        text-align: right;\n",
       "    }\n",
       "</style>\n",
       "<table border=\"1\" class=\"dataframe\">\n",
       "  <thead>\n",
       "    <tr style=\"text-align: right;\">\n",
       "      <th></th>\n",
       "      <th>k1</th>\n",
       "      <th>k2</th>\n",
       "      <th>v1</th>\n",
       "    </tr>\n",
       "  </thead>\n",
       "  <tbody>\n",
       "    <tr>\n",
       "      <th>0</th>\n",
       "      <td>one</td>\n",
       "      <td>1</td>\n",
       "      <td>0</td>\n",
       "    </tr>\n",
       "    <tr>\n",
       "      <th>1</th>\n",
       "      <td>two</td>\n",
       "      <td>1</td>\n",
       "      <td>1</td>\n",
       "    </tr>\n",
       "    <tr>\n",
       "      <th>2</th>\n",
       "      <td>one</td>\n",
       "      <td>2</td>\n",
       "      <td>2</td>\n",
       "    </tr>\n",
       "    <tr>\n",
       "      <th>3</th>\n",
       "      <td>two</td>\n",
       "      <td>3</td>\n",
       "      <td>3</td>\n",
       "    </tr>\n",
       "    <tr>\n",
       "      <th>4</th>\n",
       "      <td>one</td>\n",
       "      <td>3</td>\n",
       "      <td>4</td>\n",
       "    </tr>\n",
       "    <tr>\n",
       "      <th>5</th>\n",
       "      <td>two</td>\n",
       "      <td>4</td>\n",
       "      <td>5</td>\n",
       "    </tr>\n",
       "    <tr>\n",
       "      <th>6</th>\n",
       "      <td>two</td>\n",
       "      <td>4</td>\n",
       "      <td>6</td>\n",
       "    </tr>\n",
       "  </tbody>\n",
       "</table>\n",
       "</div>"
      ],
      "text/plain": [
       "    k1  k2  v1\n",
       "0  one   1   0\n",
       "1  two   1   1\n",
       "2  one   2   2\n",
       "3  two   3   3\n",
       "4  one   3   4\n",
       "5  two   4   5\n",
       "6  two   4   6"
      ]
     },
     "execution_count": 75,
     "metadata": {},
     "output_type": "execute_result"
    }
   ],
   "source": [
    "data"
   ]
  },
  {
   "cell_type": "code",
   "execution_count": 76,
   "metadata": {},
   "outputs": [
    {
     "data": {
      "text/html": [
       "<div>\n",
       "<style scoped>\n",
       "    .dataframe tbody tr th:only-of-type {\n",
       "        vertical-align: middle;\n",
       "    }\n",
       "\n",
       "    .dataframe tbody tr th {\n",
       "        vertical-align: top;\n",
       "    }\n",
       "\n",
       "    .dataframe thead th {\n",
       "        text-align: right;\n",
       "    }\n",
       "</style>\n",
       "<table border=\"1\" class=\"dataframe\">\n",
       "  <thead>\n",
       "    <tr style=\"text-align: right;\">\n",
       "      <th></th>\n",
       "      <th>k1</th>\n",
       "      <th>k2</th>\n",
       "      <th>v1</th>\n",
       "    </tr>\n",
       "  </thead>\n",
       "  <tbody>\n",
       "    <tr>\n",
       "      <th>0</th>\n",
       "      <td>one</td>\n",
       "      <td>1</td>\n",
       "      <td>0</td>\n",
       "    </tr>\n",
       "    <tr>\n",
       "      <th>1</th>\n",
       "      <td>two</td>\n",
       "      <td>1</td>\n",
       "      <td>1</td>\n",
       "    </tr>\n",
       "  </tbody>\n",
       "</table>\n",
       "</div>"
      ],
      "text/plain": [
       "    k1  k2  v1\n",
       "0  one   1   0\n",
       "1  two   1   1"
      ]
     },
     "execution_count": 76,
     "metadata": {},
     "output_type": "execute_result"
    }
   ],
   "source": [
    "data.drop_duplicates(['k1'])"
   ]
  },
  {
   "cell_type": "code",
   "execution_count": 77,
   "metadata": {},
   "outputs": [
    {
     "data": {
      "text/html": [
       "<div>\n",
       "<style scoped>\n",
       "    .dataframe tbody tr th:only-of-type {\n",
       "        vertical-align: middle;\n",
       "    }\n",
       "\n",
       "    .dataframe tbody tr th {\n",
       "        vertical-align: top;\n",
       "    }\n",
       "\n",
       "    .dataframe thead th {\n",
       "        text-align: right;\n",
       "    }\n",
       "</style>\n",
       "<table border=\"1\" class=\"dataframe\">\n",
       "  <thead>\n",
       "    <tr style=\"text-align: right;\">\n",
       "      <th></th>\n",
       "      <th>k1</th>\n",
       "      <th>k2</th>\n",
       "      <th>v1</th>\n",
       "    </tr>\n",
       "  </thead>\n",
       "  <tbody>\n",
       "    <tr>\n",
       "      <th>0</th>\n",
       "      <td>one</td>\n",
       "      <td>1</td>\n",
       "      <td>0</td>\n",
       "    </tr>\n",
       "    <tr>\n",
       "      <th>1</th>\n",
       "      <td>two</td>\n",
       "      <td>1</td>\n",
       "      <td>1</td>\n",
       "    </tr>\n",
       "    <tr>\n",
       "      <th>2</th>\n",
       "      <td>one</td>\n",
       "      <td>2</td>\n",
       "      <td>2</td>\n",
       "    </tr>\n",
       "    <tr>\n",
       "      <th>3</th>\n",
       "      <td>two</td>\n",
       "      <td>3</td>\n",
       "      <td>3</td>\n",
       "    </tr>\n",
       "    <tr>\n",
       "      <th>4</th>\n",
       "      <td>one</td>\n",
       "      <td>3</td>\n",
       "      <td>4</td>\n",
       "    </tr>\n",
       "    <tr>\n",
       "      <th>6</th>\n",
       "      <td>two</td>\n",
       "      <td>4</td>\n",
       "      <td>6</td>\n",
       "    </tr>\n",
       "  </tbody>\n",
       "</table>\n",
       "</div>"
      ],
      "text/plain": [
       "    k1  k2  v1\n",
       "0  one   1   0\n",
       "1  two   1   1\n",
       "2  one   2   2\n",
       "3  two   3   3\n",
       "4  one   3   4\n",
       "6  two   4   6"
      ]
     },
     "execution_count": 77,
     "metadata": {},
     "output_type": "execute_result"
    }
   ],
   "source": [
    "data.drop_duplicates(['k1', 'k2'], keep='last')"
   ]
  },
  {
   "cell_type": "code",
   "execution_count": 2,
   "metadata": {},
   "outputs": [],
   "source": [
    "######Transforming Data Using a Function or Mapping"
   ]
  },
  {
   "cell_type": "code",
   "execution_count": 3,
   "metadata": {},
   "outputs": [],
   "source": [
    "data = pd.DataFrame({'food':['bacon', 'pulled pork','bacon',\n",
    "                            'Pastrami','corned beef', 'Bacon',\n",
    "                            'pastrami', 'honey ham', 'nova lox'], \n",
    "                    'ounces':[4,3,12,6,7.5,8,3,5,6]})"
   ]
  },
  {
   "cell_type": "code",
   "execution_count": 4,
   "metadata": {},
   "outputs": [
    {
     "data": {
      "text/html": [
       "<div>\n",
       "<style scoped>\n",
       "    .dataframe tbody tr th:only-of-type {\n",
       "        vertical-align: middle;\n",
       "    }\n",
       "\n",
       "    .dataframe tbody tr th {\n",
       "        vertical-align: top;\n",
       "    }\n",
       "\n",
       "    .dataframe thead th {\n",
       "        text-align: right;\n",
       "    }\n",
       "</style>\n",
       "<table border=\"1\" class=\"dataframe\">\n",
       "  <thead>\n",
       "    <tr style=\"text-align: right;\">\n",
       "      <th></th>\n",
       "      <th>food</th>\n",
       "      <th>ounces</th>\n",
       "    </tr>\n",
       "  </thead>\n",
       "  <tbody>\n",
       "    <tr>\n",
       "      <th>0</th>\n",
       "      <td>bacon</td>\n",
       "      <td>4.0</td>\n",
       "    </tr>\n",
       "    <tr>\n",
       "      <th>1</th>\n",
       "      <td>pulled pork</td>\n",
       "      <td>3.0</td>\n",
       "    </tr>\n",
       "    <tr>\n",
       "      <th>2</th>\n",
       "      <td>bacon</td>\n",
       "      <td>12.0</td>\n",
       "    </tr>\n",
       "    <tr>\n",
       "      <th>3</th>\n",
       "      <td>Pastrami</td>\n",
       "      <td>6.0</td>\n",
       "    </tr>\n",
       "    <tr>\n",
       "      <th>4</th>\n",
       "      <td>corned beef</td>\n",
       "      <td>7.5</td>\n",
       "    </tr>\n",
       "    <tr>\n",
       "      <th>5</th>\n",
       "      <td>Bacon</td>\n",
       "      <td>8.0</td>\n",
       "    </tr>\n",
       "    <tr>\n",
       "      <th>6</th>\n",
       "      <td>pastrami</td>\n",
       "      <td>3.0</td>\n",
       "    </tr>\n",
       "    <tr>\n",
       "      <th>7</th>\n",
       "      <td>honey ham</td>\n",
       "      <td>5.0</td>\n",
       "    </tr>\n",
       "    <tr>\n",
       "      <th>8</th>\n",
       "      <td>nova lox</td>\n",
       "      <td>6.0</td>\n",
       "    </tr>\n",
       "  </tbody>\n",
       "</table>\n",
       "</div>"
      ],
      "text/plain": [
       "          food  ounces\n",
       "0        bacon     4.0\n",
       "1  pulled pork     3.0\n",
       "2        bacon    12.0\n",
       "3     Pastrami     6.0\n",
       "4  corned beef     7.5\n",
       "5        Bacon     8.0\n",
       "6     pastrami     3.0\n",
       "7    honey ham     5.0\n",
       "8     nova lox     6.0"
      ]
     },
     "execution_count": 4,
     "metadata": {},
     "output_type": "execute_result"
    }
   ],
   "source": [
    "data"
   ]
  },
  {
   "cell_type": "code",
   "execution_count": 10,
   "metadata": {},
   "outputs": [],
   "source": [
    "meat_to_animal = {'bacon':'pig', 'pulled pork':'pig', 'pastrami':'cow',\n",
    "                 'corned beef':'cow', 'honey ham':'pig', 'nova lox':'salmon'}"
   ]
  },
  {
   "cell_type": "code",
   "execution_count": 11,
   "metadata": {},
   "outputs": [],
   "source": [
    "lowercased = data['food'].str.lower()"
   ]
  },
  {
   "cell_type": "code",
   "execution_count": 12,
   "metadata": {},
   "outputs": [
    {
     "data": {
      "text/plain": [
       "0          bacon\n",
       "1    pulled pork\n",
       "2          bacon\n",
       "3       pastrami\n",
       "4    corned beef\n",
       "5          bacon\n",
       "6       pastrami\n",
       "7      honey ham\n",
       "8       nova lox\n",
       "Name: food, dtype: object"
      ]
     },
     "execution_count": 12,
     "metadata": {},
     "output_type": "execute_result"
    }
   ],
   "source": [
    "lowercased"
   ]
  },
  {
   "cell_type": "code",
   "execution_count": 13,
   "metadata": {},
   "outputs": [],
   "source": [
    "data['animal']=lowercased.map(meat_to_animal)"
   ]
  },
  {
   "cell_type": "code",
   "execution_count": 14,
   "metadata": {},
   "outputs": [
    {
     "data": {
      "text/html": [
       "<div>\n",
       "<style scoped>\n",
       "    .dataframe tbody tr th:only-of-type {\n",
       "        vertical-align: middle;\n",
       "    }\n",
       "\n",
       "    .dataframe tbody tr th {\n",
       "        vertical-align: top;\n",
       "    }\n",
       "\n",
       "    .dataframe thead th {\n",
       "        text-align: right;\n",
       "    }\n",
       "</style>\n",
       "<table border=\"1\" class=\"dataframe\">\n",
       "  <thead>\n",
       "    <tr style=\"text-align: right;\">\n",
       "      <th></th>\n",
       "      <th>food</th>\n",
       "      <th>ounces</th>\n",
       "      <th>animal</th>\n",
       "    </tr>\n",
       "  </thead>\n",
       "  <tbody>\n",
       "    <tr>\n",
       "      <th>0</th>\n",
       "      <td>bacon</td>\n",
       "      <td>4.0</td>\n",
       "      <td>pig</td>\n",
       "    </tr>\n",
       "    <tr>\n",
       "      <th>1</th>\n",
       "      <td>pulled pork</td>\n",
       "      <td>3.0</td>\n",
       "      <td>pig</td>\n",
       "    </tr>\n",
       "    <tr>\n",
       "      <th>2</th>\n",
       "      <td>bacon</td>\n",
       "      <td>12.0</td>\n",
       "      <td>pig</td>\n",
       "    </tr>\n",
       "    <tr>\n",
       "      <th>3</th>\n",
       "      <td>Pastrami</td>\n",
       "      <td>6.0</td>\n",
       "      <td>cow</td>\n",
       "    </tr>\n",
       "    <tr>\n",
       "      <th>4</th>\n",
       "      <td>corned beef</td>\n",
       "      <td>7.5</td>\n",
       "      <td>cow</td>\n",
       "    </tr>\n",
       "    <tr>\n",
       "      <th>5</th>\n",
       "      <td>Bacon</td>\n",
       "      <td>8.0</td>\n",
       "      <td>pig</td>\n",
       "    </tr>\n",
       "    <tr>\n",
       "      <th>6</th>\n",
       "      <td>pastrami</td>\n",
       "      <td>3.0</td>\n",
       "      <td>cow</td>\n",
       "    </tr>\n",
       "    <tr>\n",
       "      <th>7</th>\n",
       "      <td>honey ham</td>\n",
       "      <td>5.0</td>\n",
       "      <td>pig</td>\n",
       "    </tr>\n",
       "    <tr>\n",
       "      <th>8</th>\n",
       "      <td>nova lox</td>\n",
       "      <td>6.0</td>\n",
       "      <td>salmon</td>\n",
       "    </tr>\n",
       "  </tbody>\n",
       "</table>\n",
       "</div>"
      ],
      "text/plain": [
       "          food  ounces  animal\n",
       "0        bacon     4.0     pig\n",
       "1  pulled pork     3.0     pig\n",
       "2        bacon    12.0     pig\n",
       "3     Pastrami     6.0     cow\n",
       "4  corned beef     7.5     cow\n",
       "5        Bacon     8.0     pig\n",
       "6     pastrami     3.0     cow\n",
       "7    honey ham     5.0     pig\n",
       "8     nova lox     6.0  salmon"
      ]
     },
     "execution_count": 14,
     "metadata": {},
     "output_type": "execute_result"
    }
   ],
   "source": [
    "data ####Keeping  capitalize4d food name ,but can correpsond b/c food converted to lower case."
   ]
  },
  {
   "cell_type": "code",
   "execution_count": 15,
   "metadata": {},
   "outputs": [
    {
     "data": {
      "text/plain": [
       "0       pig\n",
       "1       pig\n",
       "2       pig\n",
       "3       cow\n",
       "4       cow\n",
       "5       pig\n",
       "6       cow\n",
       "7       pig\n",
       "8    salmon\n",
       "Name: food, dtype: object"
      ]
     },
     "execution_count": 15,
     "metadata": {},
     "output_type": "execute_result"
    }
   ],
   "source": [
    "data['food'].map(lambda x:meat_to_animal[x.lower()])"
   ]
  },
  {
   "cell_type": "code",
   "execution_count": null,
   "metadata": {},
   "outputs": [],
   "source": []
  },
  {
   "cell_type": "code",
   "execution_count": 16,
   "metadata": {},
   "outputs": [],
   "source": [
    "#####Replacing Values"
   ]
  },
  {
   "cell_type": "code",
   "execution_count": 19,
   "metadata": {},
   "outputs": [],
   "source": [
    "data = pd.Series([1., -999., 2., -999., -1000., 3.])"
   ]
  },
  {
   "cell_type": "code",
   "execution_count": 20,
   "metadata": {},
   "outputs": [
    {
     "data": {
      "text/plain": [
       "0       1.0\n",
       "1    -999.0\n",
       "2       2.0\n",
       "3    -999.0\n",
       "4   -1000.0\n",
       "5       3.0\n",
       "dtype: float64"
      ]
     },
     "execution_count": 20,
     "metadata": {},
     "output_type": "execute_result"
    }
   ],
   "source": [
    "data"
   ]
  },
  {
   "cell_type": "code",
   "execution_count": 21,
   "metadata": {},
   "outputs": [
    {
     "data": {
      "text/plain": [
       "0       1.0\n",
       "1       NaN\n",
       "2       2.0\n",
       "3       NaN\n",
       "4   -1000.0\n",
       "5       3.0\n",
       "dtype: float64"
      ]
     },
     "execution_count": 21,
     "metadata": {},
     "output_type": "execute_result"
    }
   ],
   "source": [
    "data.replace(-999, np.nan)"
   ]
  },
  {
   "cell_type": "code",
   "execution_count": 22,
   "metadata": {},
   "outputs": [
    {
     "data": {
      "text/plain": [
       "0    1.0\n",
       "1    NaN\n",
       "2    2.0\n",
       "3    NaN\n",
       "4    NaN\n",
       "5    3.0\n",
       "dtype: float64"
      ]
     },
     "execution_count": 22,
     "metadata": {},
     "output_type": "execute_result"
    }
   ],
   "source": [
    "data.replace([-999,-1000], np.nan)"
   ]
  },
  {
   "cell_type": "code",
   "execution_count": 23,
   "metadata": {},
   "outputs": [
    {
     "data": {
      "text/plain": [
       "0    1.0\n",
       "1    NaN\n",
       "2    2.0\n",
       "3    NaN\n",
       "4    0.0\n",
       "5    3.0\n",
       "dtype: float64"
      ]
     },
     "execution_count": 23,
     "metadata": {},
     "output_type": "execute_result"
    }
   ],
   "source": [
    "data.replace([-999,-1000], [np.nan, 0])"
   ]
  },
  {
   "cell_type": "code",
   "execution_count": 25,
   "metadata": {},
   "outputs": [
    {
     "data": {
      "text/plain": [
       "0    1.0\n",
       "1    NaN\n",
       "2    2.0\n",
       "3    NaN\n",
       "4    0.0\n",
       "5    3.0\n",
       "dtype: float64"
      ]
     },
     "execution_count": 25,
     "metadata": {},
     "output_type": "execute_result"
    }
   ],
   "source": [
    "data.replace({-999:np.nan, -1000:0})"
   ]
  },
  {
   "cell_type": "code",
   "execution_count": null,
   "metadata": {},
   "outputs": [],
   "source": []
  },
  {
   "cell_type": "code",
   "execution_count": 26,
   "metadata": {},
   "outputs": [],
   "source": [
    "###Renaming Axis Index"
   ]
  },
  {
   "cell_type": "code",
   "execution_count": 28,
   "metadata": {},
   "outputs": [],
   "source": [
    "data = pd.DataFrame(np.arange(12).reshape((3, 4)),\n",
    "                    index=['Ohio', 'Colorado','New York'],\n",
    "                    columns=['one', 'two','three','four'])"
   ]
  },
  {
   "cell_type": "code",
   "execution_count": 29,
   "metadata": {},
   "outputs": [
    {
     "data": {
      "text/html": [
       "<div>\n",
       "<style scoped>\n",
       "    .dataframe tbody tr th:only-of-type {\n",
       "        vertical-align: middle;\n",
       "    }\n",
       "\n",
       "    .dataframe tbody tr th {\n",
       "        vertical-align: top;\n",
       "    }\n",
       "\n",
       "    .dataframe thead th {\n",
       "        text-align: right;\n",
       "    }\n",
       "</style>\n",
       "<table border=\"1\" class=\"dataframe\">\n",
       "  <thead>\n",
       "    <tr style=\"text-align: right;\">\n",
       "      <th></th>\n",
       "      <th>one</th>\n",
       "      <th>two</th>\n",
       "      <th>three</th>\n",
       "      <th>four</th>\n",
       "    </tr>\n",
       "  </thead>\n",
       "  <tbody>\n",
       "    <tr>\n",
       "      <th>Ohio</th>\n",
       "      <td>0</td>\n",
       "      <td>1</td>\n",
       "      <td>2</td>\n",
       "      <td>3</td>\n",
       "    </tr>\n",
       "    <tr>\n",
       "      <th>Colorado</th>\n",
       "      <td>4</td>\n",
       "      <td>5</td>\n",
       "      <td>6</td>\n",
       "      <td>7</td>\n",
       "    </tr>\n",
       "    <tr>\n",
       "      <th>New York</th>\n",
       "      <td>8</td>\n",
       "      <td>9</td>\n",
       "      <td>10</td>\n",
       "      <td>11</td>\n",
       "    </tr>\n",
       "  </tbody>\n",
       "</table>\n",
       "</div>"
      ],
      "text/plain": [
       "          one  two  three  four\n",
       "Ohio        0    1      2     3\n",
       "Colorado    4    5      6     7\n",
       "New York    8    9     10    11"
      ]
     },
     "execution_count": 29,
     "metadata": {},
     "output_type": "execute_result"
    }
   ],
   "source": [
    "data"
   ]
  },
  {
   "cell_type": "code",
   "execution_count": 30,
   "metadata": {},
   "outputs": [],
   "source": [
    "transform = lambda x : x[:4].upper()"
   ]
  },
  {
   "cell_type": "code",
   "execution_count": 31,
   "metadata": {},
   "outputs": [
    {
     "data": {
      "text/plain": [
       "Index(['OHIO', 'COLO', 'NEW '], dtype='object')"
      ]
     },
     "execution_count": 31,
     "metadata": {},
     "output_type": "execute_result"
    }
   ],
   "source": [
    "data.index.map(transform)"
   ]
  },
  {
   "cell_type": "code",
   "execution_count": 32,
   "metadata": {},
   "outputs": [],
   "source": [
    "data.index = data.index.map(transform)"
   ]
  },
  {
   "cell_type": "code",
   "execution_count": 33,
   "metadata": {},
   "outputs": [
    {
     "data": {
      "text/html": [
       "<div>\n",
       "<style scoped>\n",
       "    .dataframe tbody tr th:only-of-type {\n",
       "        vertical-align: middle;\n",
       "    }\n",
       "\n",
       "    .dataframe tbody tr th {\n",
       "        vertical-align: top;\n",
       "    }\n",
       "\n",
       "    .dataframe thead th {\n",
       "        text-align: right;\n",
       "    }\n",
       "</style>\n",
       "<table border=\"1\" class=\"dataframe\">\n",
       "  <thead>\n",
       "    <tr style=\"text-align: right;\">\n",
       "      <th></th>\n",
       "      <th>one</th>\n",
       "      <th>two</th>\n",
       "      <th>three</th>\n",
       "      <th>four</th>\n",
       "    </tr>\n",
       "  </thead>\n",
       "  <tbody>\n",
       "    <tr>\n",
       "      <th>OHIO</th>\n",
       "      <td>0</td>\n",
       "      <td>1</td>\n",
       "      <td>2</td>\n",
       "      <td>3</td>\n",
       "    </tr>\n",
       "    <tr>\n",
       "      <th>COLO</th>\n",
       "      <td>4</td>\n",
       "      <td>5</td>\n",
       "      <td>6</td>\n",
       "      <td>7</td>\n",
       "    </tr>\n",
       "    <tr>\n",
       "      <th>NEW</th>\n",
       "      <td>8</td>\n",
       "      <td>9</td>\n",
       "      <td>10</td>\n",
       "      <td>11</td>\n",
       "    </tr>\n",
       "  </tbody>\n",
       "</table>\n",
       "</div>"
      ],
      "text/plain": [
       "      one  two  three  four\n",
       "OHIO    0    1      2     3\n",
       "COLO    4    5      6     7\n",
       "NEW     8    9     10    11"
      ]
     },
     "execution_count": 33,
     "metadata": {},
     "output_type": "execute_result"
    }
   ],
   "source": [
    "data"
   ]
  },
  {
   "cell_type": "code",
   "execution_count": 34,
   "metadata": {},
   "outputs": [
    {
     "data": {
      "text/html": [
       "<div>\n",
       "<style scoped>\n",
       "    .dataframe tbody tr th:only-of-type {\n",
       "        vertical-align: middle;\n",
       "    }\n",
       "\n",
       "    .dataframe tbody tr th {\n",
       "        vertical-align: top;\n",
       "    }\n",
       "\n",
       "    .dataframe thead th {\n",
       "        text-align: right;\n",
       "    }\n",
       "</style>\n",
       "<table border=\"1\" class=\"dataframe\">\n",
       "  <thead>\n",
       "    <tr style=\"text-align: right;\">\n",
       "      <th></th>\n",
       "      <th>ONE</th>\n",
       "      <th>TWO</th>\n",
       "      <th>THREE</th>\n",
       "      <th>FOUR</th>\n",
       "    </tr>\n",
       "  </thead>\n",
       "  <tbody>\n",
       "    <tr>\n",
       "      <th>Ohio</th>\n",
       "      <td>0</td>\n",
       "      <td>1</td>\n",
       "      <td>2</td>\n",
       "      <td>3</td>\n",
       "    </tr>\n",
       "    <tr>\n",
       "      <th>Colo</th>\n",
       "      <td>4</td>\n",
       "      <td>5</td>\n",
       "      <td>6</td>\n",
       "      <td>7</td>\n",
       "    </tr>\n",
       "    <tr>\n",
       "      <th>New</th>\n",
       "      <td>8</td>\n",
       "      <td>9</td>\n",
       "      <td>10</td>\n",
       "      <td>11</td>\n",
       "    </tr>\n",
       "  </tbody>\n",
       "</table>\n",
       "</div>"
      ],
      "text/plain": [
       "      ONE  TWO  THREE  FOUR\n",
       "Ohio    0    1      2     3\n",
       "Colo    4    5      6     7\n",
       "New     8    9     10    11"
      ]
     },
     "execution_count": 34,
     "metadata": {},
     "output_type": "execute_result"
    }
   ],
   "source": [
    "data.rename(index = str.title, columns=str.upper) ###What is str.title??"
   ]
  },
  {
   "cell_type": "code",
   "execution_count": 36,
   "metadata": {},
   "outputs": [
    {
     "data": {
      "text/html": [
       "<div>\n",
       "<style scoped>\n",
       "    .dataframe tbody tr th:only-of-type {\n",
       "        vertical-align: middle;\n",
       "    }\n",
       "\n",
       "    .dataframe tbody tr th {\n",
       "        vertical-align: top;\n",
       "    }\n",
       "\n",
       "    .dataframe thead th {\n",
       "        text-align: right;\n",
       "    }\n",
       "</style>\n",
       "<table border=\"1\" class=\"dataframe\">\n",
       "  <thead>\n",
       "    <tr style=\"text-align: right;\">\n",
       "      <th></th>\n",
       "      <th>one</th>\n",
       "      <th>two</th>\n",
       "      <th>peekaboo</th>\n",
       "      <th>four</th>\n",
       "    </tr>\n",
       "  </thead>\n",
       "  <tbody>\n",
       "    <tr>\n",
       "      <th>INDIANA</th>\n",
       "      <td>0</td>\n",
       "      <td>1</td>\n",
       "      <td>2</td>\n",
       "      <td>3</td>\n",
       "    </tr>\n",
       "    <tr>\n",
       "      <th>COLO</th>\n",
       "      <td>4</td>\n",
       "      <td>5</td>\n",
       "      <td>6</td>\n",
       "      <td>7</td>\n",
       "    </tr>\n",
       "    <tr>\n",
       "      <th>NEW</th>\n",
       "      <td>8</td>\n",
       "      <td>9</td>\n",
       "      <td>10</td>\n",
       "      <td>11</td>\n",
       "    </tr>\n",
       "  </tbody>\n",
       "</table>\n",
       "</div>"
      ],
      "text/plain": [
       "         one  two  peekaboo  four\n",
       "INDIANA    0    1         2     3\n",
       "COLO       4    5         6     7\n",
       "NEW        8    9        10    11"
      ]
     },
     "execution_count": 36,
     "metadata": {},
     "output_type": "execute_result"
    }
   ],
   "source": [
    "data.rename(index = {'OHIO':'INDIANA'}, columns={'three':'peekaboo'})"
   ]
  },
  {
   "cell_type": "code",
   "execution_count": 37,
   "metadata": {},
   "outputs": [],
   "source": [
    "data.rename(index = {'OHIO':'INDIANA'}, inplace=True) ###What significant??"
   ]
  },
  {
   "cell_type": "code",
   "execution_count": 38,
   "metadata": {},
   "outputs": [
    {
     "data": {
      "text/html": [
       "<div>\n",
       "<style scoped>\n",
       "    .dataframe tbody tr th:only-of-type {\n",
       "        vertical-align: middle;\n",
       "    }\n",
       "\n",
       "    .dataframe tbody tr th {\n",
       "        vertical-align: top;\n",
       "    }\n",
       "\n",
       "    .dataframe thead th {\n",
       "        text-align: right;\n",
       "    }\n",
       "</style>\n",
       "<table border=\"1\" class=\"dataframe\">\n",
       "  <thead>\n",
       "    <tr style=\"text-align: right;\">\n",
       "      <th></th>\n",
       "      <th>one</th>\n",
       "      <th>two</th>\n",
       "      <th>three</th>\n",
       "      <th>four</th>\n",
       "    </tr>\n",
       "  </thead>\n",
       "  <tbody>\n",
       "    <tr>\n",
       "      <th>INDIANA</th>\n",
       "      <td>0</td>\n",
       "      <td>1</td>\n",
       "      <td>2</td>\n",
       "      <td>3</td>\n",
       "    </tr>\n",
       "    <tr>\n",
       "      <th>COLO</th>\n",
       "      <td>4</td>\n",
       "      <td>5</td>\n",
       "      <td>6</td>\n",
       "      <td>7</td>\n",
       "    </tr>\n",
       "    <tr>\n",
       "      <th>NEW</th>\n",
       "      <td>8</td>\n",
       "      <td>9</td>\n",
       "      <td>10</td>\n",
       "      <td>11</td>\n",
       "    </tr>\n",
       "  </tbody>\n",
       "</table>\n",
       "</div>"
      ],
      "text/plain": [
       "         one  two  three  four\n",
       "INDIANA    0    1      2     3\n",
       "COLO       4    5      6     7\n",
       "NEW        8    9     10    11"
      ]
     },
     "execution_count": 38,
     "metadata": {},
     "output_type": "execute_result"
    }
   ],
   "source": [
    "data"
   ]
  },
  {
   "cell_type": "code",
   "execution_count": null,
   "metadata": {},
   "outputs": [],
   "source": []
  },
  {
   "cell_type": "code",
   "execution_count": 3,
   "metadata": {},
   "outputs": [],
   "source": [
    "#####Discretization  and Binning"
   ]
  },
  {
   "cell_type": "code",
   "execution_count": 4,
   "metadata": {},
   "outputs": [],
   "source": [
    "ages = [20, 22, 25, 27, 21, 23, 37, 31, 61, 45, 41, 32]"
   ]
  },
  {
   "cell_type": "code",
   "execution_count": 5,
   "metadata": {},
   "outputs": [],
   "source": [
    "bins = [18, 25, 35, 60, 100]"
   ]
  },
  {
   "cell_type": "code",
   "execution_count": 6,
   "metadata": {},
   "outputs": [],
   "source": [
    "cats = pd.cut(ages, bins)"
   ]
  },
  {
   "cell_type": "code",
   "execution_count": 7,
   "metadata": {},
   "outputs": [
    {
     "data": {
      "text/plain": [
       "[(18, 25], (18, 25], (18, 25], (25, 35], (18, 25], ..., (25, 35], (60, 100], (35, 60], (35, 60], (25, 35]]\n",
       "Length: 12\n",
       "Categories (4, interval[int64]): [(18, 25] < (25, 35] < (35, 60] < (60, 100]]"
      ]
     },
     "execution_count": 7,
     "metadata": {},
     "output_type": "execute_result"
    }
   ],
   "source": [
    "cats"
   ]
  },
  {
   "cell_type": "code",
   "execution_count": 8,
   "metadata": {},
   "outputs": [
    {
     "data": {
      "text/plain": [
       "array([0, 0, 0, 1, 0, 0, 2, 1, 3, 2, 2, 1], dtype=int8)"
      ]
     },
     "execution_count": 8,
     "metadata": {},
     "output_type": "execute_result"
    }
   ],
   "source": [
    "cats.codes"
   ]
  },
  {
   "cell_type": "code",
   "execution_count": 9,
   "metadata": {},
   "outputs": [
    {
     "data": {
      "text/plain": [
       "IntervalIndex([(18, 25], (25, 35], (35, 60], (60, 100]]\n",
       "              closed='right',\n",
       "              dtype='interval[int64]')"
      ]
     },
     "execution_count": 9,
     "metadata": {},
     "output_type": "execute_result"
    }
   ],
   "source": [
    "cats.categories"
   ]
  },
  {
   "cell_type": "code",
   "execution_count": 10,
   "metadata": {},
   "outputs": [
    {
     "data": {
      "text/plain": [
       "(18, 25]     5\n",
       "(35, 60]     3\n",
       "(25, 35]     3\n",
       "(60, 100]    1\n",
       "dtype: int64"
      ]
     },
     "execution_count": 10,
     "metadata": {},
     "output_type": "execute_result"
    }
   ],
   "source": [
    "pd.value_counts(cats)"
   ]
  },
  {
   "cell_type": "code",
   "execution_count": 11,
   "metadata": {},
   "outputs": [
    {
     "data": {
      "text/plain": [
       "[[18, 26), [18, 26), [18, 26), [26, 36), [18, 26), ..., [26, 36), [61, 100), [36, 61), [36, 61), [26, 36)]\n",
       "Length: 12\n",
       "Categories (4, interval[int64]): [[18, 26) < [26, 36) < [36, 61) < [61, 100)]"
      ]
     },
     "execution_count": 11,
     "metadata": {},
     "output_type": "execute_result"
    }
   ],
   "source": [
    "pd.cut(ages, [18, 26, 36, 61, 100], right = False)"
   ]
  },
  {
   "cell_type": "code",
   "execution_count": 13,
   "metadata": {},
   "outputs": [],
   "source": [
    "group_names = ['Youth', 'YoungAdult', 'MiddleAged', 'Senior']"
   ]
  },
  {
   "cell_type": "code",
   "execution_count": 14,
   "metadata": {},
   "outputs": [
    {
     "data": {
      "text/plain": [
       "[Youth, Youth, Youth, YoungAdult, Youth, ..., YoungAdult, Senior, MiddleAged, MiddleAged, YoungAdult]\n",
       "Length: 12\n",
       "Categories (4, object): [Youth < YoungAdult < MiddleAged < Senior]"
      ]
     },
     "execution_count": 14,
     "metadata": {},
     "output_type": "execute_result"
    }
   ],
   "source": [
    "pd.cut(ages, bins, labels=group_names)"
   ]
  },
  {
   "cell_type": "code",
   "execution_count": 15,
   "metadata": {},
   "outputs": [],
   "source": [
    "data = np.random.rand(20)"
   ]
  },
  {
   "cell_type": "code",
   "execution_count": 16,
   "metadata": {},
   "outputs": [
    {
     "data": {
      "text/plain": [
       "[(0.0069, 0.25], (0.73, 0.98], (0.25, 0.49], (0.49, 0.73], (0.25, 0.49], ..., (0.25, 0.49], (0.73, 0.98], (0.25, 0.49], (0.0069, 0.25], (0.0069, 0.25]]\n",
       "Length: 20\n",
       "Categories (4, interval[float64]): [(0.0069, 0.25] < (0.25, 0.49] < (0.49, 0.73] < (0.73, 0.98]]"
      ]
     },
     "execution_count": 16,
     "metadata": {},
     "output_type": "execute_result"
    }
   ],
   "source": [
    "pd.cut(data, 4, precision=2)"
   ]
  },
  {
   "cell_type": "code",
   "execution_count": 17,
   "metadata": {},
   "outputs": [
    {
     "data": {
      "text/plain": [
       "array([0.1317489 , 0.97512642, 0.34712409, 0.55338342, 0.26691851,\n",
       "       0.66521438, 0.13446687, 0.00787682, 0.17048958, 0.57564012,\n",
       "       0.4687519 , 0.81343196, 0.42917502, 0.82644402, 0.42914383,\n",
       "       0.349616  , 0.91767346, 0.3894452 , 0.03521516, 0.22554694])"
      ]
     },
     "execution_count": 17,
     "metadata": {},
     "output_type": "execute_result"
    }
   ],
   "source": [
    "data"
   ]
  },
  {
   "cell_type": "code",
   "execution_count": 18,
   "metadata": {},
   "outputs": [],
   "source": [
    "data = np.random.randn(1000)"
   ]
  },
  {
   "cell_type": "code",
   "execution_count": 19,
   "metadata": {},
   "outputs": [
    {
     "data": {
      "text/plain": [
       "array([-3.10983190e-01, -1.30984585e+00, -6.84705790e-01, -8.93260305e-01,\n",
       "       -3.95562464e-01, -1.09792471e-01,  1.63692027e+00,  2.77129417e-01,\n",
       "       -2.74700521e+00, -2.10212309e+00,  9.35390993e-01, -5.55855771e-01,\n",
       "        2.39103343e+00, -1.69491581e-01, -3.59255677e-01,  1.14066121e+00,\n",
       "       -5.45660863e-01, -6.79630705e-01,  1.08853547e+00,  3.92904485e-01,\n",
       "        1.80758919e-01, -1.18814913e+00,  1.06942931e+00, -5.15902639e-01,\n",
       "        3.66806794e-01,  2.80042457e-01,  2.23696763e-01, -6.69902371e-01,\n",
       "        8.26446313e-02, -7.99286659e-01,  1.74762300e+00, -6.44373259e-01,\n",
       "       -1.00148985e+00,  1.44314658e+00, -5.56011157e-01,  4.60230082e-01,\n",
       "        3.00339449e-01,  2.05799594e-02, -1.91446970e+00,  6.69838723e-01,\n",
       "        4.68167795e-01, -4.02249237e-01, -4.20392009e-01,  1.01166744e+00,\n",
       "        3.96241924e-02, -8.32373395e-01, -2.67126883e-01, -2.62129744e+00,\n",
       "        7.20435237e-01,  2.14699553e-02, -1.25960148e-01, -6.93539064e-01,\n",
       "        9.12670942e-01,  8.42060699e-01, -1.59155688e+00, -1.73790586e-01,\n",
       "       -7.73420441e-01, -3.36004344e-01, -4.26472084e-01,  1.14574861e+00,\n",
       "       -1.02085637e+00,  2.86741542e+00, -1.76270878e+00, -1.03258796e+00,\n",
       "        2.05845522e-01, -8.82894949e-01, -6.87207193e-01,  5.57535013e-01,\n",
       "       -3.55963630e-01,  2.30478242e+00, -1.99125822e+00,  1.47745514e+00,\n",
       "       -7.85666743e-01, -2.07883505e-01,  1.49827674e+00,  4.16564848e-01,\n",
       "        2.27051973e-01, -1.35398607e-02,  1.26314898e+00,  9.60621272e-01,\n",
       "       -3.85044668e-01, -1.10076922e+00, -2.85721453e+00, -6.73914891e-01,\n",
       "        7.23494600e-01, -1.19404074e-01,  1.00107069e+00, -3.02945694e-01,\n",
       "       -1.00613342e+00, -3.52051997e-02,  1.61582023e-02,  3.62718496e-01,\n",
       "       -6.96886581e-01, -2.56966644e-01,  6.20298652e-01, -5.55422646e-01,\n",
       "       -1.20353166e+00, -2.92497771e-01,  1.38644590e+00,  4.71775133e-01,\n",
       "        2.00558889e-01,  8.57843912e-01,  1.07376604e+00, -2.26840066e+00,\n",
       "        1.15271436e+00, -8.41034812e-01,  3.92191518e-01,  6.36792129e-01,\n",
       "       -5.42768949e-01, -1.46059755e+00,  7.70135399e-01,  6.94203872e-01,\n",
       "       -1.52094336e-01,  9.38265366e-01, -1.36290744e+00, -1.50918690e-02,\n",
       "       -1.04640697e+00, -2.87238915e-01, -4.03824435e-01, -8.66189344e-01,\n",
       "       -7.31497393e-01, -4.79530046e-02, -1.63701435e+00, -1.16919225e-01,\n",
       "        8.17163157e-01,  1.03355036e+00,  1.27063628e+00,  6.29027552e-01,\n",
       "       -7.24611278e-01, -1.44221140e+00, -9.75233589e-01, -5.43394758e-02,\n",
       "       -1.53932991e+00,  5.71099054e-01,  5.49252987e-01, -5.61921187e-01,\n",
       "        2.93735584e-01, -6.41319895e-01,  6.92109967e-01,  4.17767095e-01,\n",
       "       -7.87941634e-01,  3.72679354e-01,  5.38585946e-01,  1.48978229e+00,\n",
       "        1.20918343e+00, -3.43687950e-01,  5.00644792e-01, -3.89335029e-01,\n",
       "       -5.40253140e-02, -1.24447389e+00, -8.81034651e-02, -2.23736825e-01,\n",
       "       -1.50361008e+00,  8.14608116e-01,  2.54233084e-01,  3.73337127e-01,\n",
       "        9.03175124e-02, -1.43288966e+00,  1.62903390e+00,  1.37721316e+00,\n",
       "        1.18846557e+00,  6.52817752e-01, -7.20637607e-01, -5.94353688e-01,\n",
       "        6.97240646e-01, -8.24479870e-01,  3.48691651e-01, -3.00924108e-01,\n",
       "       -1.34848862e+00, -9.14342761e-01, -9.17073804e-01,  4.02769254e-01,\n",
       "        1.55836601e+00, -1.13506382e+00, -4.45315029e-02,  1.30075391e-01,\n",
       "       -1.17760142e+00,  3.78900921e-01, -2.40770854e-01, -4.86728784e-01,\n",
       "        9.78381501e-01,  7.97910029e-01,  3.43240210e-01, -6.76512537e-01,\n",
       "       -1.58843311e-01, -8.98030872e-01, -4.54354269e-01, -5.11583827e-01,\n",
       "        1.38362361e+00, -9.25631759e-01, -8.54322370e-01, -9.39588978e-01,\n",
       "       -3.69426654e-01,  1.04706218e+00, -7.84121241e-01,  3.73130999e-01,\n",
       "        6.66010981e-01,  1.05339734e+00,  5.87781808e-01,  9.43563305e-01,\n",
       "       -1.28136632e+00,  5.31573228e-01,  7.97628569e-01, -1.72164639e+00,\n",
       "       -2.04871422e+00,  4.80105711e-01, -1.19733216e-01, -7.59465820e-01,\n",
       "       -3.17650763e-01,  4.74253861e-01, -6.19363526e-01,  1.49528035e+00,\n",
       "       -6.50744562e-02,  9.11734355e-01,  1.01794110e-01, -7.86561975e-01,\n",
       "       -2.85319376e+00, -1.36184897e-01, -9.51171309e-01,  1.53843250e+00,\n",
       "       -4.74442835e-01,  6.31059752e-01,  8.10043014e-02,  1.95282066e+00,\n",
       "        7.60244716e-01, -6.13396265e-01, -5.18384479e-01, -1.64000863e+00,\n",
       "       -2.69763093e-01,  3.30421295e-01, -3.38128902e-02,  3.05156263e-01,\n",
       "       -2.28178248e-01,  2.05395204e-01, -4.84346226e-01, -2.44991636e+00,\n",
       "        1.12488562e-01,  7.89995906e-01,  9.83276921e-01,  9.95552637e-01,\n",
       "       -2.44588264e+00,  3.44938733e-01,  3.30935783e-01,  1.62323871e+00,\n",
       "        2.20145605e+00, -1.02172878e+00, -4.55413457e-01,  7.84645211e-01,\n",
       "        1.95373472e-01, -1.46330257e-02, -5.25737369e-01,  1.44322513e-01,\n",
       "       -2.81193919e-01,  7.23002159e-01, -2.45341809e-01, -2.17511257e-01,\n",
       "        8.98506503e-01,  7.84444392e-01,  6.59729752e-02,  3.47854211e-01,\n",
       "       -7.99980391e-02, -5.52632612e-01,  1.03731158e+00, -1.23343479e+00,\n",
       "        8.98570743e-01,  3.90414344e-01,  2.05971358e-01, -2.29526644e-01,\n",
       "        1.70419255e-01, -9.39474899e-01, -8.10256380e-01,  7.15631564e-01,\n",
       "       -6.15985334e-02, -9.75515205e-01,  1.25769713e+00,  3.75857205e-01,\n",
       "        7.80593063e-01, -1.30892334e+00, -1.40692636e+00, -8.53580785e-01,\n",
       "       -9.76617515e-01,  1.33195982e+00,  6.19891440e-01,  3.92400433e-01,\n",
       "        5.75784834e-01,  2.95598510e-01,  2.09553631e+00,  1.04738234e+00,\n",
       "        4.51261575e-01,  3.00912156e-01, -2.16005056e-01, -2.86220621e-01,\n",
       "        4.21870407e-02, -1.28829298e+00,  3.51500168e-01, -2.69799226e-01,\n",
       "       -1.48526563e-01,  1.16460639e+00,  7.11410079e-01,  1.15926481e+00,\n",
       "        3.94680767e-01,  6.25684157e-01,  3.95953166e-01, -1.39392320e+00,\n",
       "       -1.92713064e+00, -3.83578150e-03, -7.17420309e-01, -2.68959020e-01,\n",
       "       -5.52813500e-01, -2.75513011e+00,  8.12123489e-01,  4.97025860e-01,\n",
       "        1.07557184e-01,  1.21064500e+00,  2.46591033e-02, -3.62574666e-01,\n",
       "        1.32177363e+00, -1.28596545e-01, -3.74766131e-01, -2.74152142e+00,\n",
       "       -1.58301099e+00,  5.11120582e-02, -2.07786295e+00,  1.23080063e+00,\n",
       "       -3.09321984e-01,  1.44495970e+00,  1.22585399e+00,  9.29906533e-01,\n",
       "       -1.02718232e-01,  5.01760580e-01, -1.21799674e-03,  7.54749153e-01,\n",
       "        8.55336758e-01, -1.55783405e+00, -4.75251831e-01,  5.58889159e-01,\n",
       "       -4.91959936e-03,  2.40257957e+00, -6.03877172e-01, -1.47612880e+00,\n",
       "       -1.99284919e+00,  9.33465772e-01, -9.99314555e-01, -1.17679137e-01,\n",
       "       -8.43889680e-01,  6.51257675e-01, -1.05429025e+00,  1.52305249e+00,\n",
       "       -4.18678652e-01, -6.28320516e-01, -1.03237894e+00,  1.65340142e+00,\n",
       "        1.10477021e+00,  1.55676692e+00,  2.92888797e-01,  1.42551619e+00,\n",
       "        8.03182049e-01,  2.35717426e-01,  2.51790055e-01,  4.40893791e-01,\n",
       "       -1.14988843e+00,  4.55939182e-01, -5.92785801e-01,  3.50319749e-01,\n",
       "       -2.01988721e+00, -1.59047844e+00,  3.02463278e-01,  1.11203135e+00,\n",
       "        9.81469874e-01, -1.74425132e+00, -1.61445066e-01,  4.81155116e-01,\n",
       "        5.27054593e-01,  7.91693409e-01,  4.90851629e-02, -5.18431156e-01,\n",
       "        9.76211314e-01,  7.56443254e-01,  9.75495793e-01, -2.37158383e+00,\n",
       "        1.85282171e-01,  4.75099868e-01, -8.05450419e-01,  3.14457746e-01,\n",
       "        2.06808703e+00, -1.27350149e-01, -6.46833435e-01,  1.21804655e-01,\n",
       "        1.62349336e+00, -1.20632349e+00,  4.17950836e-02,  8.45663316e-01,\n",
       "       -8.09221725e-01,  9.51308228e-01, -2.92631884e-01,  7.67533973e-01,\n",
       "        5.52870369e-01, -4.29672436e-01,  9.75620012e-01,  5.36078088e-01,\n",
       "        1.37723777e+00,  1.48787301e-01,  3.44163358e-01,  1.72982944e-01,\n",
       "        1.57797810e-01, -2.93692656e+00, -1.02535358e+00, -1.35707452e+00,\n",
       "       -5.89373392e-01,  3.04909454e-01, -1.68110423e+00,  1.82530290e-01,\n",
       "        1.63251269e+00,  8.89942006e-01, -6.67354806e-01,  7.12816599e-01,\n",
       "        3.60694235e-01, -7.30467543e-01,  1.22866357e+00, -5.15364576e-01,\n",
       "       -1.44442047e+00,  7.19174975e-02, -3.71810947e-01,  1.39800794e+00,\n",
       "        2.00572220e-01, -1.09646209e+00, -1.20077203e-02, -5.93826709e-01,\n",
       "       -1.82873976e-01, -1.03203232e-01, -4.25884368e-01, -7.43201582e-01,\n",
       "       -7.65796540e-01,  8.45618226e-01, -2.20293413e-02, -1.49182659e-01,\n",
       "       -2.60865701e-01, -4.93769191e-01,  7.53344522e-01, -1.30452150e+00,\n",
       "       -5.28628950e-01,  6.84251680e-01,  1.88735166e+00, -6.39458384e-01,\n",
       "       -5.62048830e-01,  1.98525155e-01,  2.23090370e-01, -7.08778946e-01,\n",
       "        1.68218643e+00,  1.25291734e+00,  9.78799631e-01, -4.81192924e-01,\n",
       "        3.69025879e-01,  2.20498905e-01,  8.21320102e-01, -6.65740896e-01,\n",
       "        8.61890658e-01, -1.56767583e+00,  2.72797350e-01,  5.18863150e-01,\n",
       "       -3.30325625e-01, -1.13030121e+00, -1.70964317e+00,  4.60059012e-01,\n",
       "       -9.07044479e-01, -2.15239087e-02, -4.08185948e-01, -1.20995503e+00,\n",
       "        2.79543730e-01, -6.35695446e-01, -2.53555894e-02,  4.94112986e-01,\n",
       "       -6.10175821e-01, -1.86834894e+00,  1.13129883e+00, -6.10976222e-03,\n",
       "        2.29259536e+00, -1.06236315e+00,  1.34944449e+00,  7.10944243e-01,\n",
       "        4.85221406e-01, -2.09537375e-01,  4.45751344e-01, -9.96788747e-02,\n",
       "        2.47484092e-01,  1.47486609e-01,  1.86602635e-01, -1.69082696e+00,\n",
       "       -1.20470711e+00,  7.43131348e-01, -6.47218287e-01,  1.97046538e+00,\n",
       "        4.00903182e-01,  2.50938685e-01, -1.97291452e+00,  3.72007905e-01,\n",
       "        1.69849808e+00, -1.29260009e+00, -4.83776279e-03,  6.15479108e-01,\n",
       "        3.01372665e-01, -2.65872755e-01,  3.00013598e-01,  3.76715042e-01,\n",
       "       -9.43281930e-01,  1.25501748e-01, -1.69767445e+00,  1.28467697e-01,\n",
       "        3.12735324e-01,  2.62800204e-01, -9.05071364e-01,  3.58888062e-01,\n",
       "        1.07035456e+00, -1.48053200e-01, -4.55681675e-01, -1.88625778e-01,\n",
       "       -1.06905364e+00,  1.12120979e+00, -4.70519768e-01, -6.12841220e-01,\n",
       "       -1.22014608e+00,  4.09331867e-01,  1.35354155e-01, -5.52746577e-01,\n",
       "       -7.48748187e-01,  9.85853786e-01, -8.52255256e-01,  5.89986919e-01,\n",
       "       -1.06626260e+00, -2.11067496e-01, -3.70761177e-01,  6.37860127e-01,\n",
       "       -1.46581431e+00,  4.30573414e-01,  1.39454207e+00,  7.47678164e-01,\n",
       "        3.05136053e-01, -9.81148874e-01,  4.11090686e-01,  8.64205546e-01,\n",
       "        2.79453083e-01,  7.49039858e-01,  6.87751957e-01, -4.71241752e-01,\n",
       "        2.13617669e+00, -1.75362535e+00, -9.77068038e-01, -2.77348259e-01,\n",
       "       -2.32186377e-03,  5.52382195e-01,  1.30267474e+00,  3.55742200e-01,\n",
       "        4.77978633e-01,  1.16345925e+00,  9.52627794e-01,  1.07957891e+00,\n",
       "       -1.45166752e+00,  6.07461713e-01, -1.21395501e+00,  6.04632086e-01,\n",
       "        5.06580214e-01, -1.41775435e-03,  2.08993699e+00,  7.52913173e-01,\n",
       "       -5.04353534e-01,  1.16822340e+00,  1.14520189e+00,  5.15372970e-01,\n",
       "        3.04219044e-01, -7.30640461e-01, -1.22694992e+00, -9.81413432e-01,\n",
       "        7.62079250e-01,  1.64796689e+00,  8.81683246e-01, -1.08219826e+00,\n",
       "        8.02952235e-01, -6.05826146e-01, -1.21886426e+00, -1.53241083e+00,\n",
       "       -2.71167307e-01, -7.53627624e-01, -1.22038334e+00, -2.83984511e-01,\n",
       "        7.38187494e-01,  1.08171651e+00,  1.27454285e-01,  1.14196867e-01,\n",
       "       -7.18428244e-01, -9.62648595e-03, -3.27833662e-01,  1.37533952e+00,\n",
       "        6.97005244e-01, -8.20509237e-01,  1.63557549e+00,  1.28021348e-01,\n",
       "       -1.09342813e-01, -1.22085641e+00, -2.98601733e+00,  1.76767759e-01,\n",
       "       -5.97878219e-01,  1.20367135e+00,  2.92184554e-01,  1.11997156e+00,\n",
       "       -5.87993621e-01, -3.13548998e-01, -7.01972921e-02, -8.19310036e-01,\n",
       "       -5.16584060e-01, -1.46393086e+00, -4.11321156e-01,  5.49181169e-01,\n",
       "        8.65799462e-01, -2.39767257e+00, -6.55538880e-02, -1.02023165e-01,\n",
       "        1.68259563e+00,  7.23090360e-01,  4.85242931e-01,  8.22159075e-01,\n",
       "       -1.36907261e-02, -9.00509937e-01,  1.58997684e-01,  1.09410332e+00,\n",
       "       -1.79704212e+00, -3.88470636e-01, -7.53486843e-01,  1.17686938e-01,\n",
       "       -5.31914490e-02, -7.81475577e-01, -7.41774242e-01,  8.76227451e-02,\n",
       "        5.58303217e-01, -4.85801406e-01, -2.33285801e-01, -9.88437144e-01,\n",
       "        9.95532499e-01, -3.19826032e+00,  4.15776680e-01, -2.97338044e-01,\n",
       "        1.82600339e+00, -9.07275894e-01,  1.01467794e+00, -1.22197569e-01,\n",
       "        1.72201082e+00,  1.85623502e+00, -4.15117928e-01, -7.41547572e-01,\n",
       "        1.81061670e+00, -6.29997736e-01,  4.90284316e-01,  2.39333356e+00,\n",
       "       -1.07587532e-01, -4.50281486e-01, -9.50505699e-01, -2.35352465e-01,\n",
       "       -2.69924147e+00, -1.43741403e-01, -5.48340225e-01,  1.73648358e-01,\n",
       "        8.38580100e-01,  3.69842683e-01, -4.32856904e-01,  8.82981562e-01,\n",
       "       -1.04322471e+00,  9.94218273e-01,  1.35067522e+00,  2.60547351e-01,\n",
       "       -7.76948388e-01, -9.66714801e-01,  8.42993241e-01, -1.09885541e+00,\n",
       "       -1.32825672e+00,  6.24367572e-01,  5.15420666e-01, -1.73716751e-01,\n",
       "        4.21532323e-01, -1.29293671e+00, -9.38870918e-01,  4.66084866e-01,\n",
       "       -6.22904067e-01, -4.49588269e-01,  4.80675602e-01, -3.24982086e-01,\n",
       "       -1.00921501e+00, -1.03455506e+00, -9.91523718e-02,  1.63296949e+00,\n",
       "       -1.13259773e+00,  8.07792084e-01,  3.59791517e-01,  8.25865563e-01,\n",
       "        3.25655194e-01,  3.24812402e-01,  1.78891974e+00, -5.28885435e-01,\n",
       "       -5.89914532e-01,  7.39977390e-01,  2.14705475e-01, -1.03371440e+00,\n",
       "        6.47828798e-02,  6.22909166e-03, -1.55632510e+00, -9.43246447e-01,\n",
       "       -8.08133917e-01,  3.57011516e-01, -1.90048236e-01, -7.34978129e-01,\n",
       "        2.30299141e+00,  6.44544140e-01,  8.37543828e-01, -8.99906612e-01,\n",
       "       -1.46690154e-01, -4.45813392e-01,  2.29227791e-01,  2.44388648e+00,\n",
       "        8.74719435e-01,  1.58367699e+00,  1.05870448e-01,  8.34116719e-03,\n",
       "       -1.54760784e+00, -9.73884903e-01, -1.81474131e+00,  1.25364269e+00,\n",
       "       -1.39082878e+00,  5.29747113e-01, -3.97465146e-01, -1.13284572e+00,\n",
       "       -1.08179613e+00,  2.02602522e+00, -9.68959979e-01, -6.06354060e-01,\n",
       "        6.95566415e-02,  6.94161702e-01, -8.57014176e-01,  2.81694693e+00,\n",
       "        9.51599554e-01,  8.53038419e-01,  4.29000079e-01, -1.69616627e+00,\n",
       "        9.23432660e-01,  3.03315637e-01,  4.01972436e-01,  2.01658482e+00,\n",
       "       -1.12645353e+00,  5.04955696e-01, -2.44618540e-01, -1.46255694e+00,\n",
       "        1.74933590e-01, -1.96581415e+00,  1.03707100e+00,  2.71864926e-01,\n",
       "       -2.18684695e+00,  4.29460947e-01, -4.46871733e-01, -1.08759638e+00,\n",
       "       -1.15796871e+00, -1.19130837e+00,  2.57933011e-01,  1.48040694e+00,\n",
       "       -2.92633195e-01,  2.07100477e-01, -1.19856163e+00,  2.44106945e-01,\n",
       "       -2.87633592e-01, -5.46420589e-01, -5.33325721e-01,  8.33058068e-01,\n",
       "       -5.75532162e-01,  5.93389690e-01,  9.95995230e-01,  1.07120807e-01,\n",
       "        6.03203089e-01, -3.02637322e-01, -2.18940267e-02,  2.99580872e-01,\n",
       "        6.04067687e-01,  1.38604054e+00,  6.02282403e-02,  1.85582591e-01,\n",
       "        4.00228534e-01,  1.00287284e+00, -3.67886867e-01, -7.17964433e-01,\n",
       "       -2.23231058e+00, -9.59795946e-01, -6.64816302e-01,  1.41845750e+00,\n",
       "        3.27623968e-01, -6.00245310e-01, -1.04529357e+00,  3.12450717e-02,\n",
       "        7.26092914e-01,  1.31906067e+00,  1.05370550e-01,  1.66218559e-01,\n",
       "       -8.83634383e-01,  8.72789108e-01, -1.55651852e+00,  1.44680398e-01,\n",
       "        1.22199430e-01, -2.13316572e+00, -2.34669084e-01,  6.04508702e-01,\n",
       "        1.58735116e+00, -1.97511111e-02, -7.86733595e-01, -5.45168200e-02,\n",
       "       -1.22566152e+00, -4.88249120e-01,  1.22568892e+00,  3.77102776e-01,\n",
       "       -1.10369417e+00,  3.81074093e-02,  1.00476482e+00,  6.41484508e-02,\n",
       "       -1.29777849e-01, -1.08596650e+00, -8.07383991e-01, -2.06640912e-01,\n",
       "       -1.55739764e+00, -6.26949594e-01, -7.03851557e-01,  5.86460354e-01,\n",
       "        7.26743868e-01, -1.24062587e+00,  6.69648363e-01, -2.83250469e-01,\n",
       "        8.93212219e-01, -1.50431271e-01,  8.98415425e-01, -1.76877106e+00,\n",
       "        1.26539143e+00, -4.77464575e-01, -1.10192484e+00, -9.23412236e-02,\n",
       "        6.94342468e-01,  1.10723749e+00,  2.06661323e+00, -7.43574177e-02,\n",
       "       -1.13695486e+00, -3.25080843e-01, -1.00935763e+00,  1.06552295e+00,\n",
       "       -1.44736135e+00,  5.54158267e-02, -9.90378341e-01,  9.16421126e-01,\n",
       "       -4.45369854e-01,  8.24289075e-01,  8.28664666e-01, -1.42659356e+00,\n",
       "        5.11719592e-01, -4.36759492e-01,  4.90290507e-01,  9.33400709e-02,\n",
       "        1.65479926e-04, -5.39794597e-02, -7.84273603e-01,  2.82841746e-02,\n",
       "        2.28639465e+00, -8.07642720e-01,  9.20019434e-01,  1.96044601e+00,\n",
       "        2.05060643e+00, -5.93889765e-01,  2.21533088e-01, -2.11576692e+00,\n",
       "        1.40767101e+00, -5.66577853e-01, -1.26692110e+00,  7.99503611e-01,\n",
       "        1.96335341e+00,  1.08745388e+00,  6.51876701e-01, -2.46573874e-01,\n",
       "       -1.90780200e-01, -1.23196859e+00,  2.71898992e-01,  2.66760678e+00,\n",
       "        1.24346379e+00, -4.45742826e-01,  5.08632166e-01, -6.79867208e-01,\n",
       "       -7.63213452e-01, -2.18340256e+00, -4.59283026e-01,  1.02914775e+00,\n",
       "        1.49469257e+00,  1.82820286e+00,  5.91657039e-01, -4.42886628e-01,\n",
       "       -1.38693537e+00,  1.30440943e+00, -2.36767215e-01, -2.15144473e-01,\n",
       "        1.07780648e+00, -3.74253271e-01, -6.52952387e-01,  1.17508538e+00,\n",
       "        2.22630843e-01,  1.38971352e+00,  1.18097809e+00,  8.01022263e-01,\n",
       "       -4.33823942e-01, -1.55100634e+00,  5.10658326e-01, -1.30823214e+00,\n",
       "       -4.69557260e-01, -1.53770188e-01,  2.56677983e-01, -8.83699276e-01,\n",
       "       -5.33286423e-01, -2.03086163e-01, -1.67684754e+00,  4.72072346e-01,\n",
       "       -6.13210874e-01, -9.45583924e-01,  1.80764819e+00, -1.24392691e+00,\n",
       "        4.29604368e-01, -4.72688346e-01, -1.62205317e-01, -3.43001619e-01,\n",
       "       -1.22712878e+00, -2.75032632e-01, -1.93956875e+00, -4.61820116e-01,\n",
       "        3.94657211e-01,  1.00499921e+00, -3.38770014e-01,  3.28949017e-02,\n",
       "       -1.31516574e+00,  1.39354413e+00,  6.51391130e-01,  6.37898605e-01,\n",
       "        2.92838040e-01,  1.98483396e+00, -1.73535383e+00,  2.17990637e-01,\n",
       "       -5.23330858e-01,  1.96046211e+00,  9.63621408e-01, -4.82161155e-01,\n",
       "        6.43543989e-01, -1.22375234e-01, -2.98153411e-02,  7.74309682e-01,\n",
       "        7.46134313e-01, -3.37190294e-01, -1.51083168e+00,  6.86379291e-01,\n",
       "       -8.74336730e-01, -6.83390636e-01,  9.01367239e-02, -1.14792957e-01,\n",
       "       -4.29100090e-01,  8.22043830e-01,  5.01663606e-01, -3.67460538e-02,\n",
       "        4.00297524e-01, -4.77221185e-01,  4.97864530e-01, -8.77627157e-02,\n",
       "        1.29444840e+00,  8.49388330e-01, -3.81359669e-01,  7.92534726e-01,\n",
       "        5.95116489e-01,  1.62123615e-01, -1.26199282e+00, -1.47393374e+00,\n",
       "        7.07272986e-01, -2.23517064e-01,  1.54898341e+00, -2.71191535e-01,\n",
       "       -6.55617124e-02,  1.12935442e+00, -1.01294466e+00, -1.27910753e+00,\n",
       "        2.31267653e+00,  2.51285672e+00,  8.13951900e-01,  8.59152621e-01,\n",
       "       -9.51341102e-01, -1.14738536e-01, -5.20866239e-01, -4.72738998e-01,\n",
       "       -9.92510896e-01, -1.67899132e-01, -6.50040912e-01,  1.39264786e+00,\n",
       "       -4.71956127e-01, -4.98368779e-01, -2.44687567e+00,  1.02761604e+00,\n",
       "       -1.98507008e-01,  4.84653552e-01, -1.32341891e+00, -1.89754646e-01])"
      ]
     },
     "execution_count": 19,
     "metadata": {},
     "output_type": "execute_result"
    }
   ],
   "source": [
    "data"
   ]
  },
  {
   "cell_type": "code",
   "execution_count": 20,
   "metadata": {},
   "outputs": [],
   "source": [
    "cats = pd.qcut(data, 4)"
   ]
  },
  {
   "cell_type": "code",
   "execution_count": 21,
   "metadata": {},
   "outputs": [
    {
     "data": {
      "text/plain": [
       "[(-0.656, -0.00434], (-3.199, -0.656], (-3.199, -0.656], (-3.199, -0.656], (-0.656, -0.00434], ..., (0.685, 2.867], (-0.656, -0.00434], (-0.00434, 0.685], (-3.199, -0.656], (-0.656, -0.00434]]\n",
       "Length: 1000\n",
       "Categories (4, interval[float64]): [(-3.199, -0.656] < (-0.656, -0.00434] < (-0.00434, 0.685] < (0.685, 2.867]]"
      ]
     },
     "execution_count": 21,
     "metadata": {},
     "output_type": "execute_result"
    }
   ],
   "source": [
    "cats"
   ]
  },
  {
   "cell_type": "code",
   "execution_count": 22,
   "metadata": {},
   "outputs": [
    {
     "data": {
      "text/plain": [
       "(0.685, 2.867]        250\n",
       "(-0.00434, 0.685]     250\n",
       "(-0.656, -0.00434]    250\n",
       "(-3.199, -0.656]      250\n",
       "dtype: int64"
      ]
     },
     "execution_count": 22,
     "metadata": {},
     "output_type": "execute_result"
    }
   ],
   "source": [
    "pd.value_counts(cats)"
   ]
  },
  {
   "cell_type": "code",
   "execution_count": 23,
   "metadata": {},
   "outputs": [
    {
     "data": {
      "text/plain": [
       "[(-1.232, -0.00434], (-3.199, -1.232], (-1.232, -0.00434], (-1.232, -0.00434], (-1.232, -0.00434], ..., (-0.00434, 1.19], (-1.232, -0.00434], (-0.00434, 1.19], (-3.199, -1.232], (-1.232, -0.00434]]\n",
       "Length: 1000\n",
       "Categories (4, interval[float64]): [(-3.199, -1.232] < (-1.232, -0.00434] < (-0.00434, 1.19] < (1.19, 2.867]]"
      ]
     },
     "execution_count": 23,
     "metadata": {},
     "output_type": "execute_result"
    }
   ],
   "source": [
    "pd.qcut(data, [0,0.1,0.5,0.9,1.])"
   ]
  },
  {
   "cell_type": "code",
   "execution_count": null,
   "metadata": {},
   "outputs": [],
   "source": []
  }
 ],
 "metadata": {
  "kernelspec": {
   "display_name": "Python 3",
   "language": "python",
   "name": "python3"
  },
  "language_info": {
   "codemirror_mode": {
    "name": "ipython",
    "version": 3
   },
   "file_extension": ".py",
   "mimetype": "text/x-python",
   "name": "python",
   "nbconvert_exporter": "python",
   "pygments_lexer": "ipython3",
   "version": "3.6.8"
  }
 },
 "nbformat": 4,
 "nbformat_minor": 2
}
